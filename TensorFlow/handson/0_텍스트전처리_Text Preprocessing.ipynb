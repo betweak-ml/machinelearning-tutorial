{
 "cells": [
  {
   "cell_type": "markdown",
   "metadata": {
    "colab_type": "text",
    "id": "rLGhbEiOoAR7"
   },
   "source": [
    "# 텍스트 전처리 (Text Preprocessing)\n",
    "\n",
    "*   텍스트를 자연어 처리를 위해 용도에 맞도록 사전에 표준화 하는 작업\n",
    "*   텍스트 내 정보를 유지하고, 중복을 제거하여 분석 효율성을 높이기 위해 전처리를 수행\n",
    "\n"
   ]
  },
  {
   "cell_type": "markdown",
   "metadata": {
    "colab_type": "text",
    "id": "E585k45HDx5E"
   },
   "source": [
    "### 1) 토큰화 (Tokenizing)\n",
    "* 텍스트를 자연어 처리를 위해 분리 하는 것을\n",
    "* 토큰화는 단어별로 분리하는 \"단어 토큰화(Word Tokenization)\"와 문장별로 분리하는 \"문장 토큰화(Sentence Tokenization)\"로 구분\n",
    "\n",
    "(이후 실습에서는 단어 토큰화를 \"토큰화\"로 통일하여 칭하도록 한다)"
   ]
  },
  {
   "cell_type": "markdown",
   "metadata": {
    "colab_type": "text",
    "id": "senwNSwgDzQc"
   },
   "source": [
    "### 2) 품사 부착(PoS Tagging)\n",
    "* 각 토큰에 품사 정보를 추가\n",
    "* 분석시에 불필요한 품사를 제거하거나 (예. 조사, 접속사 등) 필요한 품사를 필터링 하기 위해 사용"
   ]
  },
  {
   "cell_type": "markdown",
   "metadata": {
    "colab_type": "text",
    "id": "R15ri5czDyzc"
   },
   "source": [
    "### 3) 개체명 인식 (NER, Named Entity Recognition)\n",
    "* 각 토큰의 개체 구분(기관, 인물, 지역, 날짜 등) 태그를 부착\n",
    "* 텍스트가 무엇과 관련되어있는지 구분하기 위해 사용\n",
    "* 예를 들어, 과일의 apple과 기업의 apple을 구분하는 방법이 개체명 인식임"
   ]
  },
  {
   "cell_type": "markdown",
   "metadata": {
    "colab_type": "text",
    "id": "Dfq99EkzD1Tk"
   },
   "source": [
    "### 4) 원형 복원 (Stemming & Lemmatization)\n",
    "* 각 토큰의 원형 복원을 함으로써 토큰을 표준화하여 불필요한 데이터 중복을 방지 (=단어의 수를 줄일수 있어 연산을 효율성을 높임)\n",
    "* 어간 추출(Stemming) : 품사를 무시하고 규칙에 기반하여 어간을 추출\n",
    "* 표제어 추출 (Lemmatization) : 품사정보를 유지하여 표제어 추출"
   ]
  },
  {
   "cell_type": "markdown",
   "metadata": {
    "colab_type": "text",
    "id": "R5HQOjRvDxmd"
   },
   "source": [
    "### 5) 불용어 처리 (Stopword)\n",
    "* 자연어 처리를 위해 불필요한 요소를 제거하는 작업\n",
    "* 불필요한 품사를 제거하는 작업과 불필요한 단어를 제거하는 작업으로 구성\n",
    "* 불필요한 토큰을 제거함으로써 연산의 효율성을 높임"
   ]
  },
  {
   "cell_type": "markdown",
   "metadata": {
    "colab_type": "text",
    "id": "QaIYJczuaS0n"
   },
   "source": [
    "\n",
    "\n",
    "---\n",
    "\n"
   ]
  },
  {
   "cell_type": "markdown",
   "metadata": {
    "colab_type": "text",
    "id": "KysKAL3VlgQN"
   },
   "source": [
    "# 1 영문 전처리 실습\n",
    "\n",
    "\n",
    "NLTK lib (https://www.nltk.org/) 사용"
   ]
  },
  {
   "cell_type": "markdown",
   "metadata": {
    "colab_type": "text",
    "id": "mND0us3Jppcu"
   },
   "source": [
    "## 1.1 실습용 영문기사 수집\n",
    "온라인 기사를 바로 수집하여 실습데이터로 사용\n",
    "\n",
    "https://www.forbes.com/sites/adrianbridgwater/2019/04/15/what-drove-the-ai-renaissance/"
   ]
  },
  {
   "cell_type": "code",
   "execution_count": 1,
   "metadata": {
    "colab": {},
    "colab_type": "code",
    "id": "F4pcegjEqewF"
   },
   "outputs": [
    {
     "ename": "ModuleNotFoundError",
     "evalue": "No module named 'requests'",
     "output_type": "error",
     "traceback": [
      "\u001b[0;31m---------------------------------------------------------------------------\u001b[0m",
      "\u001b[0;31mModuleNotFoundError\u001b[0m                       Traceback (most recent call last)",
      "\u001b[0;32m<ipython-input-1-10ca0c9990f3>\u001b[0m in \u001b[0;36m<module>\u001b[0;34m\u001b[0m\n\u001b[0;32m----> 1\u001b[0;31m \u001b[0;32mimport\u001b[0m \u001b[0mrequests\u001b[0m\u001b[0;34m\u001b[0m\u001b[0m\n\u001b[0m\u001b[1;32m      2\u001b[0m \u001b[0;32mfrom\u001b[0m \u001b[0mbs4\u001b[0m \u001b[0;32mimport\u001b[0m \u001b[0mBeautifulSoup\u001b[0m\u001b[0;34m\u001b[0m\u001b[0m\n",
      "\u001b[0;31mModuleNotFoundError\u001b[0m: No module named 'requests'"
     ]
    }
   ],
   "source": [
    "import requests\n",
    "from bs4 import BeautifulSoup"
   ]
  },
  {
   "cell_type": "code",
   "execution_count": 0,
   "metadata": {
    "colab": {},
    "colab_type": "code",
    "id": "wFUHpRU3qhLu"
   },
   "outputs": [],
   "source": [
    "url = 'https://www.forbes.com/sites/adrianbridgwater/2019/04/15/what-drove-the-ai-renaissance/?ss=ai-big-data#45dd5dd61f25'\n",
    "response = requests.get(url)\n",
    "soup = BeautifulSoup(response.text,'html.parser')"
   ]
  },
  {
   "cell_type": "code",
   "execution_count": 0,
   "metadata": {
    "colab": {},
    "colab_type": "code",
    "id": "VlX5zJweqn-B"
   },
   "outputs": [],
   "source": [
    "eng_news = soup.select('p') #[class=\"speakable-paragraph\"]')\n",
    "eng_text = eng_news[3].get_text()"
   ]
  },
  {
   "cell_type": "code",
   "execution_count": 0,
   "metadata": {
    "colab": {
     "base_uri": "https://localhost:8080/",
     "height": 54
    },
    "colab_type": "code",
    "executionInfo": {
     "elapsed": 795,
     "status": "ok",
     "timestamp": 1562736320905,
     "user": {
      "displayName": "이민호",
      "photoUrl": "https://lh5.googleusercontent.com/-DyV97Vqqbdg/AAAAAAAAAAI/AAAAAAAAADk/S243P6JSRhs/s64/photo.jpg",
      "userId": "15829449822908558555"
     },
     "user_tz": -540
    },
    "id": "urFWZplwq5My",
    "outputId": "4f2cbc19-e26a-41d0-a527-b01abf3b4550"
   },
   "outputs": [
    {
     "data": {
      "text/plain": [
       "\"And yes, she does mean everybody's job from yours to mine and onward to the role of grain farmers in Egypt, pastry chefs in Paris and dog walkers in Oregon i.e. every job. We will now be able to help direct all workers’ actions and behavior with a new degree of intelligence that comes from predictive analytics, all stemming from the AI engines we will now increasingly depend upon.\""
      ]
     },
     "execution_count": 5,
     "metadata": {
      "tags": []
     },
     "output_type": "execute_result"
    }
   ],
   "source": [
    "eng_text"
   ]
  },
  {
   "cell_type": "code",
   "execution_count": 0,
   "metadata": {
    "colab": {},
    "colab_type": "code",
    "id": "Eq97S3kd_P2r"
   },
   "outputs": [],
   "source": []
  },
  {
   "cell_type": "markdown",
   "metadata": {
    "colab_type": "text",
    "id": "yv0ASXb8qa6H"
   },
   "source": [
    "## 1.2 영문 토큰화\n",
    "https://www.nltk.org/api/nltk.tokenize.html"
   ]
  },
  {
   "cell_type": "code",
   "execution_count": 0,
   "metadata": {
    "colab": {
     "base_uri": "https://localhost:8080/",
     "height": 72
    },
    "colab_type": "code",
    "executionInfo": {
     "elapsed": 4904,
     "status": "ok",
     "timestamp": 1562736326007,
     "user": {
      "displayName": "이민호",
      "photoUrl": "https://lh5.googleusercontent.com/-DyV97Vqqbdg/AAAAAAAAAAI/AAAAAAAAADk/S243P6JSRhs/s64/photo.jpg",
      "userId": "15829449822908558555"
     },
     "user_tz": -540
    },
    "id": "ZPZeW4nqTpZD",
    "outputId": "f5b7460e-4442-4ffc-b1ac-446dc66ee175"
   },
   "outputs": [
    {
     "name": "stdout",
     "output_type": "stream",
     "text": [
      "Requirement already satisfied: nltk in /usr/local/lib/python3.6/dist-packages (3.2.5)\n",
      "Requirement already satisfied: six in /usr/local/lib/python3.6/dist-packages (from nltk) (1.12.0)\n"
     ]
    }
   ],
   "source": [
    "!pip install nltk"
   ]
  },
  {
   "cell_type": "code",
   "execution_count": 0,
   "metadata": {
    "colab": {
     "base_uri": "https://localhost:8080/",
     "height": 69
    },
    "colab_type": "code",
    "executionInfo": {
     "elapsed": 5565,
     "status": "ok",
     "timestamp": 1562736326881,
     "user": {
      "displayName": "이민호",
      "photoUrl": "https://lh5.googleusercontent.com/-DyV97Vqqbdg/AAAAAAAAAAI/AAAAAAAAADk/S243P6JSRhs/s64/photo.jpg",
      "userId": "15829449822908558555"
     },
     "user_tz": -540
    },
    "id": "ywTmZDer4iH-",
    "outputId": "c6a52e31-a583-4dc9-87fd-8ed8f9218cc6"
   },
   "outputs": [
    {
     "name": "stdout",
     "output_type": "stream",
     "text": [
      "[nltk_data] Downloading package punkt to /root/nltk_data...\n",
      "[nltk_data]   Unzipping tokenizers/punkt.zip.\n",
      "['Barack', 'Obama', 'likes', 'fried', 'chicken', 'very', 'much']\n"
     ]
    }
   ],
   "source": [
    "# word_tokenize() : 마침표와 구두점(온점(.), 컴마(,), 물음표(?), 세미콜론(;), 느낌표(!) 등과 같은 기호)으로 구분하여 토큰화\n",
    "import nltk\n",
    "nltk.download('punkt')\n",
    "from nltk.tokenize import word_tokenize\n",
    "token1 = word_tokenize('Barack Obama likes fried chicken very much')\n",
    "print(token1)"
   ]
  },
  {
   "cell_type": "code",
   "execution_count": 0,
   "metadata": {
    "colab": {
     "base_uri": "https://localhost:8080/",
     "height": 54
    },
    "colab_type": "code",
    "executionInfo": {
     "elapsed": 5375,
     "status": "ok",
     "timestamp": 1562736326882,
     "user": {
      "displayName": "이민호",
      "photoUrl": "https://lh5.googleusercontent.com/-DyV97Vqqbdg/AAAAAAAAAAI/AAAAAAAAADk/S243P6JSRhs/s64/photo.jpg",
      "userId": "15829449822908558555"
     },
     "user_tz": -540
    },
    "id": "8ecl0DtolnEc",
    "outputId": "c8c93c00-23d3-4b13-d610-cf7cbf7bf282"
   },
   "outputs": [
    {
     "name": "stdout",
     "output_type": "stream",
     "text": [
      "['And', 'yes', ',', 'she', 'does', 'mean', 'everybody', \"'s\", 'job', 'from', 'yours', 'to', 'mine', 'and', 'onward', 'to', 'the', 'role', 'of', 'grain', 'farmers', 'in', 'Egypt', ',', 'pastry', 'chefs', 'in', 'Paris', 'and', 'dog', 'walkers', 'in', 'Oregon', 'i.e', '.', 'every', 'job', '.', 'We', 'will', 'now', 'be', 'able', 'to', 'help', 'direct', 'all', 'workers', '’', 'actions', 'and', 'behavior', 'with', 'a', 'new', 'degree', 'of', 'intelligence', 'that', 'comes', 'from', 'predictive', 'analytics', ',', 'all', 'stemming', 'from', 'the', 'AI', 'engines', 'we', 'will', 'now', 'increasingly', 'depend', 'upon', '.']\n"
     ]
    }
   ],
   "source": [
    "# word_tokenize() : 마침표와 구두점(온점(.), 컴마(,), 물음표(?), 세미콜론(;), 느낌표(!) 등과 같은 기호)으로 구분하여 토큰화\n",
    "import nltk\n",
    "from nltk.tokenize import word_tokenize\n",
    "token1 = word_tokenize(eng_text)\n",
    "print(token1)"
   ]
  },
  {
   "cell_type": "code",
   "execution_count": 0,
   "metadata": {
    "colab": {
     "base_uri": "https://localhost:8080/",
     "height": 34
    },
    "colab_type": "code",
    "executionInfo": {
     "elapsed": 5001,
     "status": "ok",
     "timestamp": 1562736326883,
     "user": {
      "displayName": "이민호",
      "photoUrl": "https://lh5.googleusercontent.com/-DyV97Vqqbdg/AAAAAAAAAAI/AAAAAAAAADk/S243P6JSRhs/s64/photo.jpg",
      "userId": "15829449822908558555"
     },
     "user_tz": -540
    },
    "id": "NkMwui2CBtTQ",
    "outputId": "4c455c47-514b-4c3a-dde3-433db9a4a770"
   },
   "outputs": [
    {
     "name": "stdout",
     "output_type": "stream",
     "text": [
      "Object `WordPunctTokenizer` not found.\n"
     ]
    }
   ],
   "source": [
    "WordPunctTokenizer?"
   ]
  },
  {
   "cell_type": "code",
   "execution_count": 0,
   "metadata": {
    "colab": {
     "base_uri": "https://localhost:8080/",
     "height": 54
    },
    "colab_type": "code",
    "executionInfo": {
     "elapsed": 4394,
     "status": "ok",
     "timestamp": 1562736326884,
     "user": {
      "displayName": "이민호",
      "photoUrl": "https://lh5.googleusercontent.com/-DyV97Vqqbdg/AAAAAAAAAAI/AAAAAAAAADk/S243P6JSRhs/s64/photo.jpg",
      "userId": "15829449822908558555"
     },
     "user_tz": -540
    },
    "id": "rygb4BNXFd13",
    "outputId": "680611a6-11be-4c74-94ec-60e731bd38d6"
   },
   "outputs": [
    {
     "name": "stdout",
     "output_type": "stream",
     "text": [
      "['And', 'yes', ',', 'she', 'does', 'mean', 'everybody', \"'\", 's', 'job', 'from', 'yours', 'to', 'mine', 'and', 'onward', 'to', 'the', 'role', 'of', 'grain', 'farmers', 'in', 'Egypt', ',', 'pastry', 'chefs', 'in', 'Paris', 'and', 'dog', 'walkers', 'in', 'Oregon', 'i', '.', 'e', '.', 'every', 'job', '.', 'We', 'will', 'now', 'be', 'able', 'to', 'help', 'direct', 'all', 'workers', '’', 'actions', 'and', 'behavior', 'with', 'a', 'new', 'degree', 'of', 'intelligence', 'that', 'comes', 'from', 'predictive', 'analytics', ',', 'all', 'stemming', 'from', 'the', 'AI', 'engines', 'we', 'will', 'now', 'increasingly', 'depend', 'upon', '.']\n"
     ]
    }
   ],
   "source": [
    "# WordPunctTokenizer() : 알파벳이 아닌문자를 구분하여 토큰화\n",
    "import nltk\n",
    "from nltk.tokenize import WordPunctTokenizer\n",
    "token2 = WordPunctTokenizer().tokenize(eng_text)\n",
    "print(token2)"
   ]
  },
  {
   "cell_type": "code",
   "execution_count": 0,
   "metadata": {
    "colab": {},
    "colab_type": "code",
    "id": "UzZ-moT5EzwL"
   },
   "outputs": [],
   "source": [
    "TreebankWordTokenizer?"
   ]
  },
  {
   "cell_type": "code",
   "execution_count": 0,
   "metadata": {
    "colab": {
     "base_uri": "https://localhost:8080/",
     "height": 54
    },
    "colab_type": "code",
    "executionInfo": {
     "elapsed": 2764,
     "status": "ok",
     "timestamp": 1562736326903,
     "user": {
      "displayName": "이민호",
      "photoUrl": "https://lh5.googleusercontent.com/-DyV97Vqqbdg/AAAAAAAAAAI/AAAAAAAAADk/S243P6JSRhs/s64/photo.jpg",
      "userId": "15829449822908558555"
     },
     "user_tz": -540
    },
    "id": "VrvBRJqJlitx",
    "outputId": "68aab69d-4df9-455b-f257-70df8fa4c2ab"
   },
   "outputs": [
    {
     "name": "stdout",
     "output_type": "stream",
     "text": [
      "['And', 'yes', ',', 'she', 'does', 'mean', 'everybody', \"'s\", 'job', 'from', 'yours', 'to', 'mine', 'and', 'onward', 'to', 'the', 'role', 'of', 'grain', 'farmers', 'in', 'Egypt', ',', 'pastry', 'chefs', 'in', 'Paris', 'and', 'dog', 'walkers', 'in', 'Oregon', 'i.e.', 'every', 'job.', 'We', 'will', 'now', 'be', 'able', 'to', 'help', 'direct', 'all', 'workers', '’', 'actions', 'and', 'behavior', 'with', 'a', 'new', 'degree', 'of', 'intelligence', 'that', 'comes', 'from', 'predictive', 'analytics', ',', 'all', 'stemming', 'from', 'the', 'AI', 'engines', 'we', 'will', 'now', 'increasingly', 'depend', 'upon', '.']\n"
     ]
    }
   ],
   "source": [
    "# TreebankWordTokenizer() : 정규표현식에 기반한 토큰화\n",
    "import nltk\n",
    "from nltk.tokenize import TreebankWordTokenizer\n",
    "token = TreebankWordTokenizer().tokenize(eng_text)\n",
    "print(token)"
   ]
  },
  {
   "cell_type": "markdown",
   "metadata": {
    "colab_type": "text",
    "id": "8-Z-0Nnysqnq"
   },
   "source": [
    "## 1.3 영문 품사 부착 (PoS Tagging)\n",
    "분리한 토큰마다 품사를 부착한다\n",
    "\n",
    "https://www.nltk.org/api/nltk.tag.html\n",
    "\n",
    "태크목록 : https://pythonprogramming.net/natural-language-toolkit-nltk-part-speech-tagging/"
   ]
  },
  {
   "cell_type": "code",
   "execution_count": 0,
   "metadata": {
    "colab": {
     "base_uri": "https://localhost:8080/",
     "height": 87
    },
    "colab_type": "code",
    "executionInfo": {
     "elapsed": 951,
     "status": "ok",
     "timestamp": 1557716007997,
     "user": {
      "displayName": "이민호",
      "photoUrl": "https://lh5.googleusercontent.com/-DyV97Vqqbdg/AAAAAAAAAAI/AAAAAAAAADk/S243P6JSRhs/s64/photo.jpg",
      "userId": "15829449822908558555"
     },
     "user_tz": -540
    },
    "id": "mHWVrEmTlosg",
    "outputId": "8517db16-0a3e-42d4-8053-b3d8b317eab3"
   },
   "outputs": [
    {
     "name": "stdout",
     "output_type": "stream",
     "text": [
      "[nltk_data] Downloading package averaged_perceptron_tagger to\n",
      "[nltk_data]     /root/nltk_data...\n",
      "[nltk_data]   Unzipping taggers/averaged_perceptron_tagger.zip.\n"
     ]
    },
    {
     "data": {
      "text/plain": [
       "True"
      ]
     },
     "execution_count": 19,
     "metadata": {
      "tags": []
     },
     "output_type": "execute_result"
    }
   ],
   "source": [
    "from nltk import pos_tag\n",
    "nltk.download('averaged_perceptron_tagger')"
   ]
  },
  {
   "cell_type": "code",
   "execution_count": 0,
   "metadata": {
    "colab": {
     "base_uri": "https://localhost:8080/",
     "height": 54
    },
    "colab_type": "code",
    "executionInfo": {
     "elapsed": 773,
     "status": "ok",
     "timestamp": 1557716890919,
     "user": {
      "displayName": "이민호",
      "photoUrl": "https://lh5.googleusercontent.com/-DyV97Vqqbdg/AAAAAAAAAAI/AAAAAAAAADk/S243P6JSRhs/s64/photo.jpg",
      "userId": "15829449822908558555"
     },
     "user_tz": -540
    },
    "id": "jwtt2LxqlrVS",
    "outputId": "d3974790-845d-40b9-f5c9-ec393c7caf65"
   },
   "outputs": [
    {
     "name": "stdout",
     "output_type": "stream",
     "text": [
      "[('And', 'CC'), ('yes', 'UH'), (',', ','), ('she', 'PRP'), ('does', 'VBZ'), ('mean', 'VB'), ('everybody', 'NN'), (\"'s\", 'POS'), ('job', 'NN'), ('from', 'IN'), ('yours', 'NNS'), ('to', 'TO'), ('mine', 'VB'), ('and', 'CC'), ('onward', 'VB'), ('to', 'TO'), ('the', 'DT'), ('role', 'NN'), ('of', 'IN'), ('grain', 'NN'), ('farmers', 'NNS'), ('in', 'IN'), ('Egypt', 'NNP'), (',', ','), ('pastry', 'NN'), ('chefs', 'NNS'), ('in', 'IN'), ('Paris', 'NNP'), ('and', 'CC'), ('dog', 'NN'), ('walkers', 'NNS'), ('in', 'IN'), ('Oregon', 'NNP'), ('i.e', 'NN'), ('.', '.'), ('every', 'DT'), ('job', 'NN'), ('.', '.'), ('We', 'PRP'), ('will', 'MD'), ('now', 'RB'), ('be', 'VB'), ('able', 'JJ'), ('to', 'TO'), ('help', 'VB'), ('direct', 'VB'), ('all', 'DT'), ('workers', 'NNS'), ('’', 'VBP'), ('actions', 'NNS'), ('and', 'CC'), ('behavior', 'NN'), ('with', 'IN'), ('a', 'DT'), ('new', 'JJ'), ('degree', 'NN'), ('of', 'IN'), ('intelligence', 'NN'), ('that', 'WDT'), ('comes', 'VBZ'), ('from', 'IN'), ('predictive', 'JJ'), ('analytics', 'NNS'), (',', ','), ('all', 'DT'), ('stemming', 'VBG'), ('from', 'IN'), ('the', 'DT'), ('AI', 'NNP'), ('engines', 'VBZ'), ('we', 'PRP'), ('will', 'MD'), ('now', 'RB'), ('increasingly', 'RB'), ('depend', 'VBP'), ('upon', 'NN'), ('.', '.')]\n"
     ]
    }
   ],
   "source": [
    "taggedToken = pos_tag(token1)\n",
    "print(taggedToken)"
   ]
  },
  {
   "cell_type": "markdown",
   "metadata": {
    "colab_type": "text",
    "id": "lDo-5-khs5Oz"
   },
   "source": [
    "## 1.4 개체명 인식 (NER, Named Entity Recognition)\n",
    "\n",
    "http://www.nltk.org/api/nltk.chunk.html"
   ]
  },
  {
   "cell_type": "code",
   "execution_count": 0,
   "metadata": {
    "colab": {
     "base_uri": "https://localhost:8080/",
     "height": 122
    },
    "colab_type": "code",
    "executionInfo": {
     "elapsed": 1239,
     "status": "ok",
     "timestamp": 1557715952987,
     "user": {
      "displayName": "이민호",
      "photoUrl": "https://lh5.googleusercontent.com/-DyV97Vqqbdg/AAAAAAAAAAI/AAAAAAAAADk/S243P6JSRhs/s64/photo.jpg",
      "userId": "15829449822908558555"
     },
     "user_tz": -540
    },
    "id": "Clj4X6Gilsi9",
    "outputId": "3ac4969e-e414-45ac-9d81-fc00b2ec3a00"
   },
   "outputs": [
    {
     "name": "stdout",
     "output_type": "stream",
     "text": [
      "[nltk_data] Downloading package words to /root/nltk_data...\n",
      "[nltk_data]   Unzipping corpora/words.zip.\n",
      "[nltk_data] Downloading package maxent_ne_chunker to\n",
      "[nltk_data]     /root/nltk_data...\n",
      "[nltk_data]   Unzipping chunkers/maxent_ne_chunker.zip.\n"
     ]
    },
    {
     "data": {
      "text/plain": [
       "True"
      ]
     },
     "execution_count": 12,
     "metadata": {
      "tags": []
     },
     "output_type": "execute_result"
    }
   ],
   "source": [
    "nltk.download('words')\n",
    "nltk.download('maxent_ne_chunker')"
   ]
  },
  {
   "cell_type": "code",
   "execution_count": 0,
   "metadata": {
    "colab": {},
    "colab_type": "code",
    "id": "PaM69WbLl_Ps"
   },
   "outputs": [],
   "source": [
    "from nltk import ne_chunk"
   ]
  },
  {
   "cell_type": "code",
   "execution_count": 0,
   "metadata": {
    "colab": {
     "base_uri": "https://localhost:8080/",
     "height": 158
    },
    "colab_type": "code",
    "executionInfo": {
     "elapsed": 921,
     "status": "ok",
     "timestamp": 1557716034527,
     "user": {
      "displayName": "이민호",
      "photoUrl": "https://lh5.googleusercontent.com/-DyV97Vqqbdg/AAAAAAAAAAI/AAAAAAAAADk/S243P6JSRhs/s64/photo.jpg",
      "userId": "15829449822908558555"
     },
     "user_tz": -540
    },
    "id": "VdkMJHO7mBgi",
    "outputId": "b3f37d26-3477-4a57-b6cd-8cd17754ca99"
   },
   "outputs": [
    {
     "name": "stdout",
     "output_type": "stream",
     "text": [
      "(S\n",
      "  (PERSON Barack/NNP)\n",
      "  (ORGANIZATION Obama/NNP)\n",
      "  likes/VBZ\n",
      "  fried/VBN\n",
      "  chicken/JJ\n",
      "  very/RB\n",
      "  much/JJ)\n"
     ]
    }
   ],
   "source": [
    "neToken = ne_chunk(taggedToken)\n",
    "print(neToken)"
   ]
  },
  {
   "cell_type": "markdown",
   "metadata": {
    "colab_type": "text",
    "id": "aHjV0h0ZtM-t"
   },
   "source": [
    "## 1.5 원형 복원\n",
    "각 토큰의 원형을 복원하여 표준화 한다. "
   ]
  },
  {
   "cell_type": "markdown",
   "metadata": {
    "colab_type": "text",
    "id": "r2eCnbChtXjo"
   },
   "source": [
    "### 1.5.1 어간추출 (Stemming)\n",
    "\n",
    "* 규칙에 기반 하여 토큰을 표준화\n",
    "* ning제거, ful 제거 등\n",
    "\n",
    "https://www.nltk.org/api/nltk.stem.html\n",
    "\n",
    "규칙상세 : https://tartarus.org/martin/PorterStemmer/def.txt"
   ]
  },
  {
   "cell_type": "code",
   "execution_count": 0,
   "metadata": {
    "colab": {
     "base_uri": "https://localhost:8080/",
     "height": 140
    },
    "colab_type": "code",
    "executionInfo": {
     "elapsed": 884,
     "status": "ok",
     "timestamp": 1557716237127,
     "user": {
      "displayName": "이민호",
      "photoUrl": "https://lh5.googleusercontent.com/-DyV97Vqqbdg/AAAAAAAAAAI/AAAAAAAAADk/S243P6JSRhs/s64/photo.jpg",
      "userId": "15829449822908558555"
     },
     "user_tz": -540
    },
    "id": "n-AvZXHLmCy2",
    "outputId": "64405744-84fe-4c09-98aa-6ac9d188254b"
   },
   "outputs": [
    {
     "name": "stdout",
     "output_type": "stream",
     "text": [
      "running -> run\n",
      "beautiful -> beauti\n",
      "believes -> believ\n",
      "using -> use\n",
      "conversation -> convers\n",
      "organization -> organ\n",
      "studies -> studi\n"
     ]
    }
   ],
   "source": [
    "from nltk.stem import PorterStemmer\n",
    "ps = PorterStemmer()\n",
    "\n",
    "print(\"running -> \" + ps.stem(\"running\"))\n",
    "print(\"beautiful -> \" + ps.stem(\"beautiful\"))\n",
    "print(\"believes -> \" + ps.stem(\"believes\"))\n",
    "print(\"using -> \" + ps.stem(\"using\"))\n",
    "print(\"conversation -> \" + ps.stem(\"conversation\"))\n",
    "print(\"organization -> \" + ps.stem(\"organization\"))\n",
    "print(\"studies -> \" + ps.stem(\"studies\"))"
   ]
  },
  {
   "cell_type": "markdown",
   "metadata": {
    "colab_type": "text",
    "id": "4haNWIcCtZza"
   },
   "source": [
    "### 1.5.2 표제어 추출 (Lemmatization)\n",
    "\n",
    "* 품사정보를 보존하여 토큰을 표준화\n",
    "\n",
    "http://www.nltk.org/api/nltk.stem.html?highlight=lemmatizer"
   ]
  },
  {
   "cell_type": "code",
   "execution_count": 0,
   "metadata": {
    "colab": {
     "base_uri": "https://localhost:8080/",
     "height": 71
    },
    "colab_type": "code",
    "executionInfo": {
     "elapsed": 948,
     "status": "ok",
     "timestamp": 1557669537549,
     "user": {
      "displayName": "이민호",
      "photoUrl": "https://lh5.googleusercontent.com/-DyV97Vqqbdg/AAAAAAAAAAI/AAAAAAAAADk/S243P6JSRhs/s64/photo.jpg",
      "userId": "15829449822908558555"
     },
     "user_tz": -540
    },
    "id": "MdxBuzdymR7w",
    "outputId": "94bb714d-9b2d-414a-9b18-9097a0ef52df"
   },
   "outputs": [
    {
     "name": "stdout",
     "output_type": "stream",
     "text": [
      "[nltk_data] Downloading package wordnet to /root/nltk_data...\n",
      "[nltk_data]   Unzipping corpora/wordnet.zip.\n"
     ]
    },
    {
     "data": {
      "text/plain": [
       "True"
      ]
     },
     "execution_count": 15,
     "metadata": {
      "tags": []
     },
     "output_type": "execute_result"
    }
   ],
   "source": [
    "nltk.download('wordnet')"
   ]
  },
  {
   "cell_type": "code",
   "execution_count": 0,
   "metadata": {
    "colab": {
     "base_uri": "https://localhost:8080/",
     "height": 143
    },
    "colab_type": "code",
    "executionInfo": {
     "elapsed": 2729,
     "status": "ok",
     "timestamp": 1557669542963,
     "user": {
      "displayName": "이민호",
      "photoUrl": "https://lh5.googleusercontent.com/-DyV97Vqqbdg/AAAAAAAAAAI/AAAAAAAAADk/S243P6JSRhs/s64/photo.jpg",
      "userId": "15829449822908558555"
     },
     "user_tz": -540
    },
    "id": "2mQSzsCZmMBd",
    "outputId": "4687d9d4-3bad-4725-d8e2-8f6295cabcfd"
   },
   "outputs": [
    {
     "name": "stdout",
     "output_type": "stream",
     "text": [
      "running -> running\n",
      "beautiful -> beautiful\n",
      "believes -> belief\n",
      "using -> using\n",
      "conversation -> conversation\n",
      "organization -> organization\n",
      "studies -> study\n"
     ]
    }
   ],
   "source": [
    "from nltk.stem import WordNetLemmatizer\n",
    "wl = WordNetLemmatizer()\n",
    "\n",
    "print(\"running -> \" + wl.lemmatize(\"running\"))\n",
    "print(\"beautiful -> \" + wl.lemmatize(\"beautiful\"))\n",
    "print(\"believes -> \" + wl.lemmatize(\"believes\"))\n",
    "print(\"using -> \" + wl.lemmatize(\"using\"))\n",
    "print(\"conversation -> \" + wl.lemmatize(\"conversation\"))\n",
    "print(\"organization -> \" + wl.lemmatize(\"organization\"))\n",
    "print(\"studies -> \" + wl.lemmatize(\"studies\"))"
   ]
  },
  {
   "cell_type": "markdown",
   "metadata": {
    "colab_type": "text",
    "id": "nmY_SvDMb0fz"
   },
   "source": [
    "## 1.6 불용어 처리 (Stopword)"
   ]
  },
  {
   "cell_type": "code",
   "execution_count": 0,
   "metadata": {
    "colab": {},
    "colab_type": "code",
    "id": "lOUE-BBKcn4S"
   },
   "outputs": [],
   "source": [
    "stopPos = ['IN', 'CC', 'UH', 'TO', 'MD', 'DT', 'VBZ','VBP']"
   ]
  },
  {
   "cell_type": "code",
   "execution_count": 0,
   "metadata": {
    "colab": {
     "base_uri": "https://localhost:8080/",
     "height": 1055
    },
    "colab_type": "code",
    "executionInfo": {
     "elapsed": 878,
     "status": "ok",
     "timestamp": 1557716897102,
     "user": {
      "displayName": "이민호",
      "photoUrl": "https://lh5.googleusercontent.com/-DyV97Vqqbdg/AAAAAAAAAAI/AAAAAAAAADk/S243P6JSRhs/s64/photo.jpg",
      "userId": "15829449822908558555"
     },
     "user_tz": -540
    },
    "id": "CyDJ4JiscnrY",
    "outputId": "3be432c6-b9c4-4569-dbcd-7ad505d01826"
   },
   "outputs": [
    {
     "data": {
      "text/plain": [
       "[((',', ','), 3),\n",
       " (('from', 'IN'), 3),\n",
       " (('to', 'TO'), 3),\n",
       " (('and', 'CC'), 3),\n",
       " (('in', 'IN'), 3),\n",
       " (('.', '.'), 3),\n",
       " (('job', 'NN'), 2),\n",
       " (('the', 'DT'), 2),\n",
       " (('of', 'IN'), 2),\n",
       " (('will', 'MD'), 2),\n",
       " (('now', 'RB'), 2),\n",
       " (('all', 'DT'), 2),\n",
       " (('And', 'CC'), 1),\n",
       " (('yes', 'UH'), 1),\n",
       " (('she', 'PRP'), 1),\n",
       " (('does', 'VBZ'), 1),\n",
       " (('mean', 'VB'), 1),\n",
       " (('everybody', 'NN'), 1),\n",
       " ((\"'s\", 'POS'), 1),\n",
       " (('yours', 'NNS'), 1),\n",
       " (('mine', 'VB'), 1),\n",
       " (('onward', 'VB'), 1),\n",
       " (('role', 'NN'), 1),\n",
       " (('grain', 'NN'), 1),\n",
       " (('farmers', 'NNS'), 1),\n",
       " (('Egypt', 'NNP'), 1),\n",
       " (('pastry', 'NN'), 1),\n",
       " (('chefs', 'NNS'), 1),\n",
       " (('Paris', 'NNP'), 1),\n",
       " (('dog', 'NN'), 1),\n",
       " (('walkers', 'NNS'), 1),\n",
       " (('Oregon', 'NNP'), 1),\n",
       " (('i.e', 'NN'), 1),\n",
       " (('every', 'DT'), 1),\n",
       " (('We', 'PRP'), 1),\n",
       " (('be', 'VB'), 1),\n",
       " (('able', 'JJ'), 1),\n",
       " (('help', 'VB'), 1),\n",
       " (('direct', 'VB'), 1),\n",
       " (('workers', 'NNS'), 1),\n",
       " (('’', 'VBP'), 1),\n",
       " (('actions', 'NNS'), 1),\n",
       " (('behavior', 'NN'), 1),\n",
       " (('with', 'IN'), 1),\n",
       " (('a', 'DT'), 1),\n",
       " (('new', 'JJ'), 1),\n",
       " (('degree', 'NN'), 1),\n",
       " (('intelligence', 'NN'), 1),\n",
       " (('that', 'WDT'), 1),\n",
       " (('comes', 'VBZ'), 1),\n",
       " (('predictive', 'JJ'), 1),\n",
       " (('analytics', 'NNS'), 1),\n",
       " (('stemming', 'VBG'), 1),\n",
       " (('AI', 'NNP'), 1),\n",
       " (('engines', 'VBZ'), 1),\n",
       " (('we', 'PRP'), 1),\n",
       " (('increasingly', 'RB'), 1),\n",
       " (('depend', 'VBP'), 1),\n",
       " (('upon', 'NN'), 1)]"
      ]
     },
     "execution_count": 34,
     "metadata": {
      "tags": []
     },
     "output_type": "execute_result"
    }
   ],
   "source": [
    "# 최빈어 조회. 최빈어를 조회하여 불용어 제거 대상을 선정\n",
    "from collections import Counter\n",
    "Counter(taggedToken).most_common()"
   ]
  },
  {
   "cell_type": "code",
   "execution_count": 0,
   "metadata": {
    "colab": {
     "base_uri": "https://localhost:8080/",
     "height": 54
    },
    "colab_type": "code",
    "executionInfo": {
     "elapsed": 813,
     "status": "ok",
     "timestamp": 1557717366508,
     "user": {
      "displayName": "이민호",
      "photoUrl": "https://lh5.googleusercontent.com/-DyV97Vqqbdg/AAAAAAAAAAI/AAAAAAAAADk/S243P6JSRhs/s64/photo.jpg",
      "userId": "15829449822908558555"
     },
     "user_tz": -540
    },
    "id": "zNhxqDVkcnX9",
    "outputId": "bf4116c7-54c5-49af-97c5-60cac531a63a"
   },
   "outputs": [
    {
     "name": "stdout",
     "output_type": "stream",
     "text": [
      "['she', 'mean', 'everybody', \"'s\", 'job', 'yours', 'mine', 'onward', 'role', 'grain', 'farmers', 'Egypt', 'pastry', 'chefs', 'Paris', 'dog', 'walkers', 'Oregon', 'i.e', '.', 'job', '.', 'We', 'now', 'help', 'direct', 'workers', 'actions', 'behavior', 'new', 'degree', 'intelligence', 'that', 'predictive', 'analytics', 'stemming', 'AI', 'we', 'now', 'increasingly', 'upon', '.']\n"
     ]
    }
   ],
   "source": [
    "stopWord = [',','be','able']\n",
    "\n",
    "word = []\n",
    "for tag in taggedToken:\n",
    "    if tag[1] not in stopPos:\n",
    "        if tag[0] not in stopWord:\n",
    "            word.append(tag[0])\n",
    "            \n",
    "print(word)"
   ]
  },
  {
   "cell_type": "markdown",
   "metadata": {
    "colab_type": "text",
    "id": "QV0orUsOb6wD"
   },
   "source": [
    "## 1.7 영문 텍스트 전처리 종합"
   ]
  },
  {
   "cell_type": "code",
   "execution_count": 0,
   "metadata": {
    "colab": {
     "base_uri": "https://localhost:8080/",
     "height": 494
    },
    "colab_type": "code",
    "executionInfo": {
     "elapsed": 3045,
     "status": "ok",
     "timestamp": 1557717587678,
     "user": {
      "displayName": "이민호",
      "photoUrl": "https://lh5.googleusercontent.com/-DyV97Vqqbdg/AAAAAAAAAAI/AAAAAAAAADk/S243P6JSRhs/s64/photo.jpg",
      "userId": "15829449822908558555"
     },
     "user_tz": -540
    },
    "id": "Pbz6tLP_mNrn",
    "outputId": "2c0a80da-761b-4845-faec-365d114ac509"
   },
   "outputs": [
    {
     "name": "stdout",
     "output_type": "stream",
     "text": [
      "[nltk_data] Downloading package averaged_perceptron_tagger to\n",
      "[nltk_data]     /root/nltk_data...\n",
      "[nltk_data]   Package averaged_perceptron_tagger is already up-to-\n",
      "[nltk_data]       date!\n",
      "[nltk_data] Downloading package words to /root/nltk_data...\n",
      "[nltk_data]   Package words is already up-to-date!\n",
      "[nltk_data] Downloading package maxent_ne_chunker to\n",
      "[nltk_data]     /root/nltk_data...\n",
      "[nltk_data]   Package maxent_ne_chunker is already up-to-date!\n",
      "[nltk_data] Downloading package wordnet to /root/nltk_data...\n",
      "[nltk_data]   Package wordnet is already up-to-date!\n",
      "['Obama', 'loves', 'fried', 'chicken', 'of', 'KFC']\n",
      "[('And', 'CC'), ('yes', 'UH'), (',', ','), ('she', 'PRP'), ('does', 'VBZ'), ('mean', 'VB'), ('everybody', 'NN'), (\"'s\", 'POS'), ('job', 'NN'), ('from', 'IN'), ('yours', 'NNS'), ('to', 'TO'), ('mine', 'VB'), ('and', 'CC'), ('onward', 'VB'), ('to', 'TO'), ('the', 'DT'), ('role', 'NN'), ('of', 'IN'), ('grain', 'NN'), ('farmers', 'NNS'), ('in', 'IN'), ('Egypt', 'NNP'), (',', ','), ('pastry', 'NN'), ('chefs', 'NNS'), ('in', 'IN'), ('Paris', 'NNP'), ('and', 'CC'), ('dog', 'NN'), ('walkers', 'NNS'), ('in', 'IN'), ('Oregon', 'NNP'), ('i.e', 'NN'), ('.', '.'), ('every', 'DT'), ('job', 'NN'), ('.', '.'), ('We', 'PRP'), ('will', 'MD'), ('now', 'RB'), ('be', 'VB'), ('able', 'JJ'), ('to', 'TO'), ('help', 'VB'), ('direct', 'VB'), ('all', 'DT'), ('workers', 'NNS'), ('’', 'VBP'), ('actions', 'NNS'), ('and', 'CC'), ('behavior', 'NN'), ('with', 'IN'), ('a', 'DT'), ('new', 'JJ'), ('degree', 'NN'), ('of', 'IN'), ('intelligence', 'NN'), ('that', 'WDT'), ('comes', 'VBZ'), ('from', 'IN'), ('predictive', 'JJ'), ('analytics', 'NNS'), (',', ','), ('all', 'DT'), ('stemming', 'VBG'), ('from', 'IN'), ('the', 'DT'), ('AI', 'NNP'), ('engines', 'VBZ'), ('we', 'PRP'), ('will', 'MD'), ('now', 'RB'), ('increasingly', 'RB'), ('depend', 'VBP'), ('upon', 'NN'), ('.', '.')]\n",
      "(S\n",
      "  (PERSON Barack/NNP)\n",
      "  (ORGANIZATION Obama/NNP)\n",
      "  likes/VBZ\n",
      "  fried/VBN\n",
      "  chicken/JJ\n",
      "  very/RB\n",
      "  much/JJ)\n",
      "loves -> love\n",
      "fried -> fri\n",
      "loves -> love\n",
      "fried -> fried\n",
      "['Obama', 'loves', 'chicken', 'KFC']\n"
     ]
    }
   ],
   "source": [
    "import nltk\n",
    "nltk.download('averaged_perceptron_tagger')\n",
    "nltk.download('words')\n",
    "nltk.download('maxent_ne_chunker')\n",
    "nltk.download('wordnet')\n",
    "\n",
    "\n",
    "from nltk.tokenize import TreebankWordTokenizer\n",
    "sumtoken = TreebankWordTokenizer().tokenize(\"Obama loves fried chicken of KFC\")\n",
    "print(sumtoken)\n",
    "\n",
    "from nltk import pos_tag\n",
    "sumTaggedToken = pos_tag(sumtoken)\n",
    "print(taggedToken)\n",
    "\n",
    "from nltk import ne_chunk\n",
    "sumNeToken = ne_chunk(sumTaggedToken)\n",
    "print(neToken)\n",
    "\n",
    "from nltk.stem import PorterStemmer\n",
    "ps = PorterStemmer()\n",
    "print(\"loves -> \" + ps.stem(\"loves\"))\n",
    "print(\"fried -> \" + ps.stem(\"fried\"))\n",
    "\n",
    "from nltk.stem import WordNetLemmatizer\n",
    "wl = WordNetLemmatizer()\n",
    "print(\"loves -> \" + wl.lemmatize(\"loves\"))\n",
    "print(\"fried -> \" + wl.lemmatize(\"fried\"))\n",
    "\n",
    "#불용어 처리\n",
    "sumStopPos = ['IN']\n",
    "sumStopWord = ['fried']\n",
    "\n",
    "word = []\n",
    "for tag in sumTaggedToken:\n",
    "    if tag[1] not in sumStopPos:\n",
    "        if tag[0] not in sumStopWord:\n",
    "            word.append(tag[0])\n",
    "            \n",
    "print(word)"
   ]
  },
  {
   "cell_type": "markdown",
   "metadata": {
    "colab_type": "text",
    "id": "BMErzPcbuYEa"
   },
   "source": [
    "\n",
    "\n",
    "---\n",
    "\n"
   ]
  },
  {
   "cell_type": "markdown",
   "metadata": {
    "colab_type": "text",
    "id": "C0Dhqm4zkHXl"
   },
   "source": [
    "# 2 한글 전처리 실습\n",
    "영문은 공백으로 토큰화가 가능하지만, 한글의 경우 품사를 고려하여 토큰화 해야한다."
   ]
  },
  {
   "cell_type": "markdown",
   "metadata": {
    "colab_type": "text",
    "id": "cIkGxDnNimek"
   },
   "source": [
    "## 2.1 실습용 한글기사 수집\n",
    "온라인 기사를 바로 수집하여 실습데이터로 사용\n",
    "\n",
    "http://news.chosun.com/site/data/html_dir/2018/07/10/2018071004121.html"
   ]
  },
  {
   "cell_type": "code",
   "execution_count": 0,
   "metadata": {
    "colab": {},
    "colab_type": "code",
    "id": "K0hNPfAwhxwu"
   },
   "outputs": [],
   "source": [
    "import requests\n",
    "from bs4 import BeautifulSoup"
   ]
  },
  {
   "cell_type": "code",
   "execution_count": 0,
   "metadata": {
    "colab": {},
    "colab_type": "code",
    "id": "imh_qjKTitdo"
   },
   "outputs": [],
   "source": [
    "url = 'http://news.chosun.com/site/data/html_dir/2018/07/10/2018071004121.html'\n",
    "response = requests.get(url)\n",
    "response.encoding = 'utf-8'    # 한글이므로 encoding을 utf-8로 지정\n",
    "soup = BeautifulSoup(response.text,'html.parser')"
   ]
  },
  {
   "cell_type": "code",
   "execution_count": 0,
   "metadata": {
    "colab": {},
    "colab_type": "code",
    "id": "U2vMw982itqD"
   },
   "outputs": [],
   "source": [
    "kor_news = soup.select('div[class=\"par\"]')\n",
    "kor_text = kor_news[0].get_text()"
   ]
  },
  {
   "cell_type": "code",
   "execution_count": 0,
   "metadata": {
    "colab": {
     "base_uri": "https://localhost:8080/",
     "height": 54
    },
    "colab_type": "code",
    "executionInfo": {
     "elapsed": 1025,
     "status": "ok",
     "timestamp": 1557724845888,
     "user": {
      "displayName": "이민호",
      "photoUrl": "https://lh5.googleusercontent.com/-DyV97Vqqbdg/AAAAAAAAAAI/AAAAAAAAADk/S243P6JSRhs/s64/photo.jpg",
      "userId": "15829449822908558555"
     },
     "user_tz": -540
    },
    "id": "d7Cl3zwiitxp",
    "outputId": "3051cdc6-51af-4aec-8d23-ef31c91a8cee"
   },
   "outputs": [
    {
     "data": {
      "text/plain": [
       "'교육을 삶의 최우선 순위로 두고 있는 한국의 부모들은 대학 전공 가운데 의학과 공학·과학을 중시한다. 자녀의 직업적 성공을 위해 대학 전공으로 의학과 이공계를 우선적으로 고려하는 일은 한국이 산업화 중이던 상황에선 올바른 선택이었다. 하지만 지금은 모든 것이 달라졌다. 요즘 실리콘밸리에서 확인되는 것은 4차 산업혁명 시대에는 예술과 인문학이 의학·공학만큼 중요하다는 사실이다.스티브 잡스는 자신이 대학 시절 수강했던 서체(書體) 수업이 매킨토시(애플이 1984년 발표한 개인용 컴퓨터) 개발 성공에 큰 영향을 미쳤다고 말했다. 그는 2011년 아이패드 2를 공개하면서 \"애플의 DNA는 기술만으로는 충분하지 않다. 교양과 인문학이 결합한 기술이야말로 가슴 벅찬 결과를 낳을 것\"이라며 예술과 디자인의 중요성을 강조했다. 이런 관점을 바탕으로 잡스는 세계 최고 가치를 인정받는 기업을 만들었고, 기술 산업의 새로운 표준까지 정했다.실리콘밸리에서 최근 뜨고 있는 스타 기업인 중에는 인문학 전공자들이 제법 많다. 구인·구직 소셜 네트워킹 서비스 기업인 링크드인(LinkedIn) 창업자 리드 호프만은 철학 석사 학위 소지자이며, 수잔 보이치키 유튜브 CEO는 역사와 문학을 전공했다. 메신저 개발 업체 슬랙(Slack)의 창업자 스튜어트 버터필드는 철학, 세계 최대 숙박 공유 기업인 에어비앤비의 설립자 브라이언 체스키는 미술을 전공했다. 중국 알리바바그룹의 마윈 회장의 학부 전공은 영어였다.내가 속해 있는 하버드대·듀크대 연구팀은 미국 IT 기업 창업자들의 92%가 학사 학위를, 47%는 석사 학위 이상을 갖고 있음을 밝혀냈다. 창업자들의 세부 전공을 보면 37%만 공학·컴퓨터 기술이며, 수학 전공자는 2%뿐이었다. 이들의 전공은 경영·회계·보건·예술·인문학 등 매우 다양했다.컴퓨터 주변기기 제조 업체 로지텍의 브랙큰 대럴 CEO도 영문학을 전공했다. 최근 내가 그에게 \"어떻게 5년여 만에 회사 주가를 450% 올릴 수 있었느냐\"고 물었더니 그는 \"우리 회사가 만드는 모든 제품의 디자인을 쉼 없이 고민했기 때문에 가능했다. 기술 관련 제품의 성공에 가장 중요한 것은 디자인\"이라고 답했다.4차 산업혁명은 \\'혁신의 규칙\\'을 바꾸는 일이다. 여기에는 컴퓨터와 인공지능, 디지털 의술, 로봇공학, 합성생물학 등 광범위한 기술이 활용된다. 의학·인공지능과 센서를 융합하면 인간의 건강을 진단하고 질병을 예방하는 \\'디지털 의사\\'를 만들 수 있다. 유전체학과 유전자 편집을 이용해 가뭄에 강하고 인류 전체를 먹여 살릴 새 식물을 개발할 수 있다. 인공지능 로봇을 사용해 노인들을 위한 \\'디지털 친구\\'도 가능하다. 초소형 물질의 발전은 모든 사람이 충분히 이용할 수 있는 \\'태양열 저장 기술\\'의 새 시대를 열 것이다.이런 해결책을 이끌어내는 데는 생물학·교육·의료·인간행동 등 여러 분야에 대한 지식이 필요하다. 우리가 처한 거대한 사회·기술적 도전에 대처하려면 인류를 둘러싼 다양한 배경과 맥락에 대해 비판적 사고 능력이 필수적이다. 이는 인문학 전공자들이 가장 잘 훈련받은 분야이다.일례로 음악·예술·문학과 심리학에서 비롯한 공감(共感) 능력은 디자인에 큰 장점이 된다. 로마제국의 흥망성쇠와 계몽주의를 공부한 역사학도는 기술의 인간적 요소와 유용성에 대한 통찰력을 가질 수 있다. 심리학 전공자는 사람에게 동기(動機)부여가 무엇이며, 사용자들이 원하는 게 무엇인지를 공학 한 분야에서만 일해온 엔지니어들보다 잘 이해할 수 있다. 우리가 상상하는 물건을 3D로 만들 수 있게 되면 음악가나 화가들의 세상이 될지도 모른다.\"자녀가 미래에 어떤 직업을 택하면 좋겠는가\"라는 질문을 받을 때 나는 \"아이들이 스스로 하고 싶은 것을 선택하도록 내버려 두는 게 최선\"이라고 답한다. 과거 우리 부모들이 우리에게 공부를 강요해서 학습을 \\'억지로 해야 하는 따분한 일\\'로 여기게 했던 방식을 따라 해선 안 된다. 그 대신 자녀가 자신의 열정을 추구하고 배우는 걸 즐길 수 있도록 북돋아야 한다.기술을 통해 놀라운 미래를 창조하고 새로운 산업혁명 시대에 리더가 되기 위해 한국에서는 공학자들과 손잡고 일할 음악가와 화가가 더 많이 필요하다. 이제는 과학·공학·의학뿐 아니라 창의성과 디자인에도 진정한 관심을 쏟아야 한다.'"
      ]
     },
     "execution_count": 53,
     "metadata": {
      "tags": []
     },
     "output_type": "execute_result"
    }
   ],
   "source": [
    "kor_text"
   ]
  },
  {
   "cell_type": "markdown",
   "metadata": {
    "colab_type": "text",
    "id": "w09FHRgIphw5"
   },
   "source": [
    "## 2.2 한글 토큰화 및 형태소 분석"
   ]
  },
  {
   "cell_type": "code",
   "execution_count": 0,
   "metadata": {
    "colab": {
     "base_uri": "https://localhost:8080/",
     "height": 72
    },
    "colab_type": "code",
    "executionInfo": {
     "elapsed": 4882,
     "status": "ok",
     "timestamp": 1557724854229,
     "user": {
      "displayName": "이민호",
      "photoUrl": "https://lh5.googleusercontent.com/-DyV97Vqqbdg/AAAAAAAAAAI/AAAAAAAAADk/S243P6JSRhs/s64/photo.jpg",
      "userId": "15829449822908558555"
     },
     "user_tz": -540
    },
    "id": "Xj3gdRSzhC8n",
    "outputId": "27e6614a-1af0-4071-834e-2de494f2a011"
   },
   "outputs": [
    {
     "name": "stdout",
     "output_type": "stream",
     "text": [
      "Requirement already satisfied: konlpy in /usr/local/lib/python3.6/dist-packages (0.5.1)\n",
      "Requirement already satisfied: JPype1>=0.5.7 in /usr/local/lib/python3.6/dist-packages (from konlpy) (0.6.3)\n"
     ]
    }
   ],
   "source": [
    "#konlpy 설치\n",
    "!pip install konlpy"
   ]
  },
  {
   "cell_type": "code",
   "execution_count": 0,
   "metadata": {
    "colab": {},
    "colab_type": "code",
    "id": "IP9Zj-WxwAtE"
   },
   "outputs": [],
   "source": [
    "#출력을 위해서 임시 class \n",
    "class List(list): \n",
    "    def __str__(self): \n",
    "        return \"[\" + \", \".join([\"%s\" % x for x in self]) + \"]\""
   ]
  },
  {
   "cell_type": "markdown",
   "metadata": {
    "colab_type": "text",
    "id": "5IZWN4xX4HXW"
   },
   "source": [
    "한글 자연어처리기 비교\n",
    "\n",
    "https://blog.naver.com/PostView.nhn?blogId=wideeyed&logNo=221337575742"
   ]
  },
  {
   "cell_type": "code",
   "execution_count": 0,
   "metadata": {
    "colab": {
     "base_uri": "https://localhost:8080/",
     "height": 107
    },
    "colab_type": "code",
    "executionInfo": {
     "elapsed": 12784,
     "status": "ok",
     "timestamp": 1557724868120,
     "user": {
      "displayName": "이민호",
      "photoUrl": "https://lh5.googleusercontent.com/-DyV97Vqqbdg/AAAAAAAAAAI/AAAAAAAAADk/S243P6JSRhs/s64/photo.jpg",
      "userId": "15829449822908558555"
     },
     "user_tz": -540
    },
    "id": "__e0d_9Svzor",
    "outputId": "3e318f37-c162-478d-f86d-03e65a60fbd5"
   },
   "outputs": [
    {
     "name": "stdout",
     "output_type": "stream",
     "text": [
      "[교육, 을, 삶, 의, 최, 우선, 순위, 로, 두, 고, 있, 는, 한국, 의, 부모, 들, 은, 대학, 전공, 가운데, 의학, 과, 공학, ·, 과학, 을, 중시, 하, ㄴ다, ., 자녀, 의, 직업, 적, 성공, 을, 위하, 아, 대학, 전공, 으로, 의학, 과, 이공, 계, 를, 우선, 적, 으로, 고려, 하, 는, 일, 은, 한국, 이, 산업화, 중, 이, 던, 상황, 에서, ㄴ, 올바르, ㄴ, 선택, 이, 었, 다, ., 하지만, 지금, 은, 모든, 것, 이, 달라지, 었, 다, ., 요즘, 실리콘밸리, 에서, 확인, 되, 는, 것, 은, 4, 차, 산업, 혁명, 시대, 에, 는, 예술, 과, 인문학, 이, 의학, ·, 공학, 만큼, 중요, 하, 다는, 사실, 이, 다, ., 스티브 잡스, 는, 자신, 이, 대학, 시절, 수강, 하, 았, 던, 서, 체, (, 書體, ), 수업, 이, 매킨토시, (, 애플, 이, 1984, 년, 발표, 하, ㄴ, 개인용 컴퓨터, ), 개발, 성공, 에, 크, ㄴ, 영향, 을, 미치, 었, 다고, 말, 하, 았, 다, ., 그, 는, 2011, 년, 아이패드 2, 를, 공개, 하, 면서, \", 애플, 의, DNA, 는, 기술, 만, 으로, 는, 충분, 하, 지, 않, 다, ., 교양, 과, 인문학, 이, 결합, 하, ㄴ, 기술, 이야말로, 가슴, 벅차, ㄴ, 결과, 를, 낳, 을, 것, \", 이, 라며, 예술, 과, 디자인, 의, 중요, 성, 을, 강조, 하, 았, 다, ., 이런, 관점, 을, 바탕, 으로, 잡스, 는, 세계, 최고, 가치, 를, 인정받, 는, 기업, 을, 만들, 었, 고, ,, 기술, 산업, 의, 새롭, ㄴ, 표준, 까지, 정하, 았, 다, ., 실리콘밸리, 에서, 최근, 뜨, 고, 있, 는, 스타, 기업인, 중, 에, 는, 인문학, 전공자, 들, 이, 제법, 많, 다, ., 구인, ·, 구직, 소, 시, 어, ㄹ, 네트, 워킹, 서비스, 기업인, 링크, 드, 인, (, LinkedIn, ), 창업자, 리드, 호프만, 은, 철학, 석사, 학위, 소지자, 이, 며, ,, 수잔, 보이, 치, 하, 기, 유튜브, CEO, 는, 역사, 와, 문학, 을, 전공, 하, 았, 다, ., 메신저, 개발, 업체, 슬랙(Slack)의, 창업자, 스튜어트, 버터필드, 는, 철학, ,, 세계, 최대, 숙박, 공유, 기업인, 에어비앤비, 의, 설립자, 브라이언, 체, 스키, 는, 미술, 을, 전공, 하, 았, 다, ., 중국, 알리바바, 그룹, 의, 마윈, 회장, 의, 학부, 전공, 은, 영어, 이, 었, 다, ., 내, 가, 속하, 아, 있, 는, 하버드대, ·, 듀크, 대, 연구, 팀, 은, 미국, IT, 기업, 창업자, 들, 의, 92, %, 가, 학사, 학위, 를, ,, 47, %, 는, 석사, 학위, 이상, 을, 갖, 고, 있, 음, 을, 밝혀내, 었, 다, ., 창업자, 들, 의, 세부, 전공, 을, 보, 면, 37, %, 만, 공학, ·, 컴퓨터, 기술, 이, 며, ,, 수학, 전공자, 는, 2, %, 뿐, 이, 었, 다, ., 이, 들, 의, 전공, 은, 경영, ·, 회계, ·, 보건, ·, 예술, ·, 인문학, 등, 매우, 다양, 하, 었, 다, ., 컴퓨터, 주변기기, 제조, 업체, 로지텍, 의, 브랙큰, 대, 러, ㄹ, CEO, 도, 영문학, 을, 전공, 하, 았, 다, ., 최근, 내, 가, 그, 에게, \", 어떻, 게, 5, 년, 이, 어, 만, 에, 회사, 주가, 를, 450, %, 올리, ㄹ, 수, 있, 었, 느냐, \", 고, 묻, 었, 더니, 그, 는, \", 우리, 회사, 가, 만들, 는, 모든, 제품, 의, 디자인, 을, 쉬, ㅁ, 없이, 고민, 하, 았, 기, 때문, 에, 가능, 하, 었, 다, ., 기술, 관련, 제품, 의, 성공, 에, 가장, 중요, 하, ㄴ, 것, 은, 디자인, \", 이라고, 답, 하, 았, 다, ., 4, 차, 산업, 혁명, 은, ', 혁신, 의, 규칙, ', 을, 바꾸, 는, 일, 이, 다, ., 여기, 에, 는, 컴퓨터, 와, 인공지능, ,, 디지털, 의술, ,, 로봇공학, ,, 합성생물학, 등, 광범위, 하, ㄴ, 기술, 이, 활용, 되, ㄴ다, ., 의학, ·, 인공지능, 과, 센서, 를, 융합, 하, 면, 인간, 의, 건강, 을, 진단, 하, 고, 질병, 을, 예방, 하, 는, ', 디지털, 의사, ', 를, 만들, ㄹ, 수, 있, 다, ., 유전체학, 과, 유전자, 편집, 을, 이용, 하, 아, 가뭄, 에, 강하, 고, 인류, 전체, 를, 먹이, 어, 살리, ㄹ, 새, 식물, 을, 개발, 하, ㄹ, 수, 있, 다, ., 인공지능, 로봇, 을, 사용, 하, 아, 노인, 들, 을, 위하, ㄴ, ', 디지털, 친구, ', 도, 가능, 하, 다, ., 초소, 형, 물질, 의, 발전, 은, 모든, 사람, 이, 충분히, 이용, 하, ㄹ, 수, 있, 는, ', 태양열, 저장, 기술, ', 의, 새 시대, 를, 열, 것, 이, 다, ., 이런, 해결책, 을, 이끌, 어, 내, 는, 데, 는, 생물학, ·, 교육, ·, 의료, ·, 인간, 행동, 등, 여러, 분야, 에, 대하, ㄴ, 지식, 이, 필요, 하, 다, ., 우리, 가, 처하, ㄴ, 거대, 하, ㄴ, 사회, ·, 기술, 적, 도전, 에, 대처, 하, 려면, 인류, 를, 둘러싸, ㄴ, 다양, 하, ㄴ, 배경, 과, 맥락, 에, 대하, 아, 비판적 사고, 능력, 이, 필수, 적, 이, 다, ., 이, 는, 인문학, 전공자, 들, 이, 가장, 잘, 훈련, 받, 은, 분야, 이, 다, ., 일례, 로, 음악, ·, 예술, ·, 문학, 과, 심리학, 에서, 비롯, 하, ㄴ, 공감, (, 共感, ), 능력, 은, 디자인, 에, 크, ㄴ, 장점, 이, 되, ㄴ다, ., 로마제국, 의, 흥망성쇠, 와, 계몽주의, 를, 공부, 하, ㄴ, 역사학도, 는, 기술, 의, 인간, 적, 요소, 와, 유용성, 에, 대하, ㄴ, 통찰력, 을, 가지, ㄹ, 수, 있, 다, ., 심리학, 전공자, 는, 사람, 에게, 동기, (, 動機, ), 부여, 가, 무엇, 이, 며, ,, 사용자, 들, 이, 원하, 는, 게, 무엇, 인지, 를, 공학, 한, 분야, 에서, 만, 일, 하, 아, 오, ㄴ, 엔지니어, 들, 보다, 잘, 이해, 하, ㄹ, 수, 있, 다, ., 우리, 가, 상상, 하, 는, 물건, 을, 3D, 로, 만들, ㄹ, 수, 있, 게, 되, 면, 음악가, 나, 화가, 들, 의, 세상, 이, 되, ㄹ지, 도, 모르, ㄴ다, ., \", 자녀, 가, 미래, 에, 어떤, 직업, 을, 택하, 면, 좋, 겠, 는가, \", 이, 라는, 질문, 을, 받, 을, 때, 나, 는, \", 아이들, 이, 스스로, 하, 고, 싶, 은, 것, 을, 선택, 하, 도록, 내버리, 어, 두, 는, 게, 최선, \", 이라고, 답하, ㄴ다, ., 과거, 우리, 부모, 들, 이, 우리, 에게, 공부, 를, 강요, 하, 아서, 학습, 을, ', 억지로, 하, 아야, 하, 는, 따분, 하, ㄴ, 일, ', 로, 여기, 게, 하, 았, 던, 방식, 을, 따르, 아, 하, 아서, ㄴ, 안, 되, ㄴ다, ., 그, 대신, 자녀, 가, 자신, 의, 열정, 을, 추구, 하, 고, 배우, 는, 걸, ㄹ, 즐기, ㄹ, 수, 있, 도록, 북돋, 아야, 하, ㄴ다, ., 기술, 을, 통하, 아, 놀랍, ㄴ, 미래, 를, 창조, 하, 고, 새롭, ㄴ, 산업, 혁명, 시대, 에, 리더, 가, 되, 기, 위하, 아, 한국, 에서, 는, 공학자, 들, 과, 손잡, 고, 일, 하, ㄹ, 음악가, 와, 화가, 가, 더, 많이, 필요, 하, 다, ., 이제, 는, 과학, ·, 공학, ·, 의학, 뿐, 아니, 라, 창의성, 과, 디자인, 에, 도, 진정, 하, ㄴ, 관심, 을, 쏟, 아야, 하, ㄴ다, .]\n",
      "[교육, 을, 삶, 의, 최우선, 순위, 로, 두, 고, 있, 는, 한국의, 부모들, 은, 대학, 전공, 가운데, 의학, 과, 공학·과학, 을, 중시, 하, ㄴ다, ., 자녀, 의, 직업적, 성공, 을, 위하, 어, 대학, 전공, 으로, 의학, 과, 이공계, 를, 우선적, 으로, 고, 려, 하, 는, 일, 은, 한국, 이, 산업화, 중, 이, 던, 상황, 에선, 올바르, ㄴ, 선택, 이, 었다, ., 하, 지만, 지금, 은, 모든, 것, 이, 다르, 아, 지, 었다, ., 요즘, 실리콘밸리, 에서, 확인, 되, 는, 것, 은, 4차, 산업혁명, 시대, 에는, 예술, 과, 인문학, 이, 의학·공학만큼, 중요, 하, 다는, 사실, 이, 다, ., 스티브, 잡스, 는, 자신, 이, 대학, 시절, 수강, 하, 었던, 서체(書體), 수업, 이, 매킨토시(애플, 이, 1984년, 발표, 하, ㄴ, 개인용, 컴퓨터, ), 개발, 성공, 에, 크, ㄴ, 영향, 을, 미치, 었다, 고, 말, 하, 었다, ., 그, 는, 2011년, 아이패드, 2, 를, 공개, 하, 면서, \", 애플, 의, DNA, 는, 기술만, 으로는, 충분, 하, 지, 않, 다, ., 교양, 과, 인문학, 이, 결합, 하, ㄴ, 기술, 이야말로, 가슴, 벅차, ㄴ, 결과, 를, 낳, 을, 것, \", 이, 라며, 예술, 과, 디자인, 의, 중요성, 을, 강조, 하, 었다, ., 이런, 관점, 을, 바탕, 으로, 잡스, 는, 세계, 최고, 가치, 를, 인정, 받, 는, 기업, 을, 만들, 었고, ,, 기술, 산업, 의, 새롭, 은, 표준, 까지, 정하, 었다, ., 실리콘밸리, 에서, 최근, 뜨, 고, 있, 는, 스타, 기업, 이, ㄴ, 중, 에는, 인문학, 전공자들, 이, 제법, 많, 다, ., 구인·구직, 소셜, 네트워킹, 서비스, 기업, 이, ㄴ, 링크드인(LinkedIn), 창업자, 리드, 호프, 만은, 철학, 석사, 학위, 소지자, 이, 며, ,, 수잔, 보이치키, 유튜브, CEO, 는, 역사, 와, 문학, 을, 전공, 하, 었다, ., 메신저, 개발, 업체, 슬랙(Slack), 의, 창업자, 스튜어트, 버터필드, 는, 철학, ,, 세계, 최대, 숙박, 공유, 기업, 이, ㄴ, 에어비앤비, 의, 설립자, 브라이언, 체스키, 는, 미술, 을, 전공, 하, 었다, ., 중국, 알리바바그룹, 의, 마윈, 회장, 의, 학부, 전공, 은, 영어, 이, 었다, ., 나, 가, 속하, 어, 있, 는, 하버드대·듀크대, 연구팀, 은, 미국, IT, 기업, 창업자들, 의, 92, %, 가, 학사, 학위, 를, ,, 47, %, 는, 석사, 학위, 이상, 을, 갖, 고, 있, 음, 을, 밝히, 어, 내, 었다, ., 창업자들, 의, 세부, 전공, 을, 보, 면, 37, %, 만, 공학·컴퓨터, 기술, 이, 며, ,, 수학, 전공자, 는, 2, %, 뿐, 이, 었다, ., 이, 들, 의, 전공, 은, 경영·회계·보건·예술·인문학, 등, 매우, 다양, 하, 었다, ., 컴퓨터, 주변기, 이, 기, 제조, 업체, 로지텍, 의, 브랙큰, 대럴, CEO, 도, 영문학, 을, 전공, 하, 었다, ., 최근, 나, 가, 그, 에게, \", 어떻, 게, 5년여, 만, 에, 회사, 주가, 를, 450, %, 올리, ㄹ, 수, 있, 었느냐, \", 고, 묻, 었더니, 그, 는, \", 우리, 회사, 가, 만들, 는, 모든, 제품, 의, 디자인, 을, 쉬, ㅁ, 없이, 고민, 하, 었기, 때문, 에, 가능, 하, 었다, ., 기술, 관련, 제품, 의, 성공, 에, 가장, 중요, 하, ㄴ, 것, 은, 디자인, \", 이, 라, 고, 답, 하, 었다, ., 4차, 산업혁명, 은, ', 혁신, 의, 규칙, ', 을, 바꾸, 는, 일, 이, 다, ., 여기, 에는, 컴퓨터, 와, 인공지능, ,, 디지털, 의술, ,, 로봇공학, ,, 합성생물학, 등, 광범위, 하, ㄴ, 기술, 이, 활용, 되, ㄴ다, ., 의학·인공지능, 과, 센서, 를, 융합, 하, 면, 인간, 의, 건강, 을, 진단, 하고, 질병, 을, 예방, 하, 는, ', 디지털, 의사, ', 를, 만들, ㄹ, 수, 있, 다, ., 유전체학, 과, 유전자, 편집, 을, 이용, 하, 어, 가뭄, 에, 강하, 고, 인류, 전체, 를, 먹이, 어, 살리, ㄹ, 새, 식물, 을, 개발, 하, ㄹ, 수, 있, 다, ., 인공지능, 로봇, 을, 사용, 하, 어, 노인들, 을, 위하, ㄴ, ', 디지털, 친구, ', 도, 가능, 하, 다, ., 초소형, 물질, 의, 발전, 은, 모든, 사람, 이, 충분히, 이용, 하, ㄹ, 수, 있, 는, ', 태양열, 저장, 기술, ', 의, 새, 시대, 를, 열, ㄹ, 것, 이, 다, ., 이런, 해결책, 을, 이끌, 어, 내, 는, 데, 는, 생물학·교육·의료·인간행동, 등, 여러, 분야, 에, 대하, ㄴ, 지식, 이, 필요, 하, 다, ., 우리, 가, 처하, ㄴ, 거대, 하, ㄴ, 사회·기술적, 도전, 에, 대처, 하, 려면, 인류, 를, 둘러싸, ㄴ, 다양한, 배경, 과, 맥락, 에, 대, 어, 하, 어, 비판적, 사, 고, 능력, 이, 필수적, 이, 다, ., 이, 는, 인문학, 전공자들, 이, 가장, 잘, 훈련, 받, 은, 분야, 이, 다, ., 일례, 로, 음악·예술·문학, 과, 심리학, 에서, 비롯, 하, ㄴ, 공감(共感), 능력, 은, 디자인, 에, 크, ㄴ, 장점, 이, 되, ㄴ다, ., 로마제국, 의, 흥망성쇠, 와, 계몽주의, 를, 공부, 하, ㄴ, 역사학도, 는, 기술, 의, 인간적, 요소, 와, 유용성, 에, 대하, ㄴ, 통찰력, 을, 가, 아, 지, ㄹ, 수, 있, 다, ., 심리학, 전공자, 는, 사람, 에게, 동기(動機)부여, 가, 무엇, 이, 며, ,, 사용자들, 이, 원하, 는, 것, 이, 무엇, 이, ㄴ, 지, 를, 공학, 하, ㄴ, 분야, 에서만, 일, 하, 어, 오, ㄴ, 엔지니어들보, 이, 다, 잘, 이해, 하, ㄹ, 수, 있, 다, ., 우리, 가, 상상, 하, 는, 물건, 을, 3D, 로, 만들, ㄹ, 수, 있, 게, 되, 면, 음악, 가나, 화가들, 의, 세상, 이, 되, ㄹ지, 도, 모르, ㄴ다, .\", 자녀, 가, 미래, 에, 어떤, 직업, 을, 택하, 면, 좋, 겠는가, \", 라는, 질문, 을, 받, 을, 때, 나, 는, \", 아이들, 이, 스스로, 하, 고, 싶, 은, 것, 을, 선택, 하, 도록, 내, 어, 버리, 어, 두, 는, 것, 이, 최선, \", 이, 라, 고, 답, 하, ㄴ다, ., 과거, 우리, 부모들, 이, 우리, 에게, 공부, 를, 강요, 하, 어서, 학습, 을, ', 억지로, 하, 어야, 하, 는, 따분한, 일, ', 로, 여기, 이, 게, 하, 었던, 방식, 을, 따르, 아, 하, 어선, 안, 되, ㄴ다, ., 그, 대, 이, 시ㄴ, 자녀, 가, 자신, 의, 열정, 을, 추구, 하고, 배우, 는, 거, ㄹ, 즐기, ㄹ, 수, 있, 도록, 북돋, 아, 하, ㄴ다, ., 기술, 을, 통하, 어, 놀랍, 은, 미래, 를, 창조, 하고, 새롭, 은, 산업혁명, 시대, 에, 리, 이, 더어, 가, 아, 되, 기, 위하, 어, 한국에서, 는, 공학자들, 과, 손잡, 고, 일할, 음악가, 와, 화가, 가, 더, 많, 이, 필요, 하, 다, ., 이제, 는, 과학·공학·의학뿐, 아니, 라, 창의성, 과, 디자인, 에도, 진정한, 관심, 을, 쏟, 아, 하, ㄴ다, .]\n",
      "[교육, 을, 삶, 의, 최, 우선, 순위, 로, 두고, 있는, 한국, 의, 부모, 들, 은, 대학, 전공, 가운데, 의학과, 공학, ·, 과학, 을, 중시, 한다, ., 자녀, 의, 직업, 적, 성공, 을, 위해, 대학, 전공, 으로, 의학과, 이공, 계, 를, 우선, 적, 으로, 고려, 하는, 일, 은, 한국, 이, 산업화, 중, 이던, 상황, 에선, 올바른, 선택, 이었다, ., 하지만, 지금, 은, 모든, 것, 이, 달라졌다, ., 요즘, 실리콘밸리, 에서, 확인, 되는, 것, 은, 4, 차, 산업혁명, 시대, 에는, 예술, 과, 인문학, 이, 의학, ·, 공학, 만큼, 중요하다는, 사실, 이다, ., 스티브, 잡스, 는, 자신, 이, 대학, 시절, 수강, 했던, 서체, (, 書體, ), 수업, 이, 매킨토시, (, 애플, 이, 1984년, 발표, 한, 개인, 용, 컴퓨터, ), 개발, 성공, 에, 큰, 영향, 을, 미쳤다고, 말, 했다, ., 그, 는, 2011년, 아이패드, 2, 를, 공개, 하면서, \", 애플, 의, DNA, 는, 기술, 만으로는, 충분하지, 않다, ., 교양, 과, 인문학, 이, 결합, 한, 기술, 이야말로, 가슴, 벅찬, 결과, 를, 낳을, 것, \", 이, 라며, 예술, 과, 디자인, 의, 중요성, 을, 강조, 했다, ., 이런, 관점, 을, 바탕, 으로, 잡스, 는, 세계, 최고, 가치, 를, 인정받는, 기업, 을, 만들었고, ,, 기술, 산업, 의, 새로운, 표준, 까지, 정, 했다, ., 실리콘밸리, 에서, 최근, 뜨고, 있는, 스타, 기업인, 중, 에는, 인문학, 전공자, 들, 이, 제법, 많다, ., 구인, ·, 구직, 소셜, 네트워킹, 서비스, 기업인, 링크드인, (, LinkedIn, ), 창업, 자, 리드, 호프, 만은, 철학, 석사, 학위, 소지, 자, 이며, ,, 수, 잔, 보이, 치키, 유튜브, CEO, 는, 역사, 와, 문학, 을, 전공, 했다, ., 메신저, 개발, 업체, 슬랙, (, Slack, ), 의, 창업, 자, 스튜어트, 버터, 필드, 는, 철학, ,, 세계, 최대, 숙박, 공유, 기업인, 에어비앤비, 의, 설립, 자, 브라이언, 체, 스키, 는, 미술, 을, 전공, 했다, ., 중국, 알리바바, 그룹, 의, 마윈, 회장, 의, 학부, 전공, 은, 영어, 였다, ., 내, 가, 속, 해, 있는, 하버드대, ·, 듀크, 대, 연, 구, 팀, 은, 미국, IT, 기업, 창업, 자, 들, 의, 92%, 가, 학사, 학위, 를, ,, 47%, 는, 석사, 학위, 이상, 을, 갖고, 있, 음, 을, 밝혀냈다, ., 창업, 자, 들, 의, 세부, 전공, 을, 보면, 37%, 만, 공학, ·, 컴퓨터, 기술, 이며, ,, 수학, 전공자, 는, 2%, 뿐이었다, ., 이, 들, 의, 전공, 은, 경영, ·, 회계, ·, 보건, ·, 예술, ·, 인문학, 등, 매우, 다양했다, ., 컴퓨터, 주변기기, 제조, 업체, 로지텍, 의, 브랙큰, 대럴, CEO, 도, 영문학, 을, 전공, 했다, ., 최근, 내, 가, 그, 에게, \", 어떻게, 5년, 여, 만에, 회사, 주가, 를, 450%, 올릴, 수, 있었느냐, \", 고, 물었더니, 그, 는, \", 우리, 회사, 가, 만드는, 모든, 제품, 의, 디자인, 을, 쉼, 없이, 고민, 했기, 때문, 에, 가능했다, ., 기술, 관련, 제품, 의, 성공, 에, 가장, 중요한, 것, 은, 디자인, \", 이라고, 답, 했다, ., 4, 차, 산업혁명, 은, ', 혁신, 의, 규칙, ', 을, 바꾸는, 일이, 다, ., 여기, 에는, 컴퓨터, 와, 인공, 지능, ,, 디지털, 의술, ,, 로봇공학, ,, 합성생물학, 등, 광범위한, 기술, 이, 활용, 된다, ., 의학, ·, 인공, 지능, 과, 센서, 를, 융합, 하면, 인간, 의, 건강, 을, 진단, 하고, 질병, 을, 예방, 하는, ', 디지털, 의사, ', 를, 만들, 수, 있다, ., 유전체학, 과, 유전자, 편집, 을, 이용, 해, 가뭄, 에, 강하고, 인류, 전체, 를, 먹여, 살릴, 새, 식물, 을, 개발, 할, 수, 있다, ., 인공, 지능, 로봇, 을, 사용, 해, 노인, 들, 을, 위, 한, ', 디지털, 친구, ', 도, 가능하다, ., 초소, 형, 물질, 의, 발전, 은, 모든, 사람, 이, 충분히, 이용, 할, 수, 있는, ', 태양열, 저장, 기술, ', 의, 새, 시대, 를, 열, 것, 이다, ., 이런, 해결, 책, 을, 이끌어내는, 데, 는, 생물학, ·, 교육, ·, 의료, ·, 인간, 행동, 등, 여러, 분야, 에, 대한, 지식, 이, 필요하다, ., 우리, 가, 처, 한, 거대한, 사회, ·, 기술, 적, 도전, 에, 대처, 하려면, 인류, 를, 둘러싼, 다양한, 배경, 과, 맥락, 에, 대해, 비판, 적, 사고, 능력, 이, 필수, 적, 이다, ., 이는, 인문학, 전공자, 들, 이, 가장, 잘, 훈련, 받은, 분야, 이다, ., 일례, 로, 음악, ·, 예술, ·, 문학, 과, 심리학, 에서, 비롯, 한, 공감, (, 共感, ), 능력, 은, 디자인, 에, 큰, 장점, 이, 된다, ., 로마제국, 의, 흥망, 성쇠, 와, 계몽, 주의, 를, 공부, 한, 역사학도, 는, 기술, 의, 인간, 적, 요소, 와, 유용성, 에, 대한, 통찰, 력, 을, 가질, 수, 있다, ., 심리학, 전공자, 는, 사람, 에게, 동기, (, 動機, ), 부여, 가, 무엇, 이며, ,, 사용자, 들, 이, 원하는, 게, 무엇, 인지, 를, 공학, 한, 분야, 에서만, 일, 해온, 엔지니어, 들, 보다, 잘, 이해, 할, 수, 있다, ., 우리, 가, 상상, 하는, 물건, 을, 3, D, 로, 만들, 수, 있게, 되면, 음악가, 나, 화가, 들, 의, 세상, 이, 될지도, 모른다, .\", 자녀, 가, 미래, 에, 어떤, 직업, 을, 택하, 면, 좋겠는가, \", 라는, 질문, 을, 받을, 때, 나, 는, \", 아이, 들, 이, 스스로, 하고, 싶은, 것, 을, 선택, 하도록, 내버려, 두는, 게, 최선, \", 이라고, 답, 한다, ., 과거, 우리, 부모, 들, 이, 우리, 에게, 공부, 를, 강요, 해서, 학습, 을, ', 억지로, 해야, 하는, 따분한, 일, ', 로, 여기, 게, 했던, 방식, 을, 따라, 해선, 안, 된다, ., 그, 대신, 자녀, 가, 자신, 의, 열정, 을, 추구, 하고, 배우는, 걸, 즐길, 수, 있도록, 북, 돋아야, 한다, ., 기술, 을, 통해, 놀라운, 미래, 를, 창조, 하고, 새로운, 산업혁명, 시대, 에, 리더, 가, 되기, 위해, 한국, 에서는, 공학자, 들, 과, 손잡고, 일, 할, 음악가, 와, 화가, 가, 더, 많이, 필요하다, ., 이제, 는, 과학, ·, 공학, ·, 의학, 뿐, 아니라, 창의성, 과, 디자인, 에도, 진정한, 관심, 을, 쏟아야, 한다, .]\n",
      "[교육, 을, 삶, 의, 최, 우선, 순위, 로, 두, 고, 있, 는, 한국, 의, 부모, 들, 은, 대학, 전공, 가운데, 의학, 과, 공학, ·, 과학, 을, 중시, 하, ㄴ다, ., 자녀, 의, 직업적, 성공, 을, 위하, 어, 대학, 전공, 으로, 의학, 과, 이공계, 를, 우선적, 으로, 고려, 하, 는, 일, 은, 한국, 이, 산업화, 중이, 덜, ㄴ, 상황, 에서, 는, 올바르, ㄴ, 선택, 이, 었, 다, ., 하지만, 지금, 은, 모든, 것, 이, 달라지, 었, 다, ., 요즘, 실리콘밸리, 에서, 확인, 되, 는, 것, 은, 4, 차, 산업, 혁명, 시대, 에, 는, 예술, 과, 인문학, 이, 의학, ·, 공학, 만큼, 중요, 하다, 는, 사실, 이, 다, ., 스티브, 잡스, 는, 자신, 이, 대학, 시절, 수강, 하, 었, 더, ㄴ, 서체, (, 書體, ), 수업, 이, 매킨토시, (, 애플, 이, 1984, 년, 발표, 하, ㄴ, 개인용, 컴퓨터, ), 개발, 성공, 에, 크, ㄴ, 영향, 을, 미치, 었, 다고, 말하, 었, 다, ., 그, 는, 2011, 년, 아이, 패드, 2, 를, 공개, 하, 면서, \", 애플, 의, DNA, 는, 기술, 만, 으로, 는, 충분, 하, 지, 않, 다, ., 교양, 과, 인문학, 이, 결합, 하, ㄴ, 기술, 이야말로, 가슴, 벅차, ㄴ, 결과, 를, 낳, 을, 것, \", 이, 라며, 예술과, 디자인, 의, 중요성, 을, 강조, 하, 었, 다, ., 이런, 관점, 을, 바탕, 으로, 잡스, 는, 세계, 최고, 가치, 를, 인정받, 는, 기업, 을, 만들, 었, 고, ,, 기술, 산업, 의, 새롭, ㄴ, 표준, 까지, 정하, 었, 다, ., 실리콘, 밸리, 에서, 최근, 뜨, 고, 있, 는, 스타, 기업인, 중, 에, 는, 인문학, 전공자, 들, 이, 제법, 많, 다, ., 구인, ·, 구직, 소, 셜, 네트, 워킹, 서비스, 기업인, 링크, 드이, ㄴ, (, LinkedIn, ), 창, 업자, 리드, 호프만, 은, 철학, 석사, 학위, 소지자, 이, 며, ,, 수, 잔, 보이, 하, 지, 키, 유, 튜브, CEO, 는, 역사, 와, 문학, 을, 전공, 하, 었, 다, ., 메신저, 개발, 업체, 슬, ㄹ, 랙, (, Slack, ), 의, 창업자, 스튜, 어트, 버터, 필드, 는, 철학, ,, 세계, 최대, 숙박, 공유, 기업인, 에어, 비, 앤, 비의, 설립자, 브라, 이언, 체, 스키, 는, 미술, 을, 전공, 하, 었, 다, ., 중국, 알, 리, 바, 바, 그룹, 의, 마, 윈, 회장, 의, 학부, 전공, 은, 영어, 이, 었, 다, ., 내, 가, 속하, 어, 있, 는, 하버드, 대, ·, 듀, 크, 대, 연구, 팀, 은, 미국, IT, 기업, 창업자, 들, 의, 92, %, 가, 아, 학사, 학위, 를, ,, 47, %, 늘, ㄴ, 석사, 학위, 이상, 을, 갖, 고, 있음, 을, 밝혀내, 었, 다, ., 창업자, 들, 의, 세부, 전공, 을, 보, 면, 37, %, 만, 공학, ·, 컴퓨터, 기술, 이, 며, ,, 수학, 전공자, 는, 2, %, 뿐, 이, 었, 다, ., 이, 들, 의, 전공, 은, 경영, ·, 회계, ·, 보건, ·, 예술, ·, 인문학, 등, 매우, 다양, 하, 었, 다, ., 컴퓨터, 주변, 기기, 제조, 업체, 로지텍, 의, 브랙, 크, ㄴ, 대, 럴, CEO, 도, 영문학, 을, 전공, 하, 었, 다, ., 최근, 내가, 그, 에게, \", 어떻, 게, 5, 년, 여, 만, 에, 회사, 주가, 를, 450, %, 올리, ㄹ, 수, 있, 었, 느냐, \", 고, 묻, 었, 더니, 그, 는, \", 우리, 회사, 가, 만들, 는, 모든, 제품, 의, 디자인, 을, 쉼, 없이, 고민, 하, 었, 기, 때문, 에, 가능, 하, 었, 다, ., 기술, 관련, 제품, 의, 성공, 에, 가장, 중요, 하, ㄴ, 것, 은, 디자인, \", 이, 라고, 답하, 었, 다, ., 4, 차, 산업, 혁명, 은, ', 혁신, 의, 규칙, ', 을, 바꾸, 는, 일, 이, 다, ., 여기, 에, 는, 컴퓨터, 와, 인공지능, ,, 디지털, 의술, ,, 로봇, 공학, ,, 합성, 생물학, 등, 광범위, 하, ㄴ, 기술, 이, 활용, 되, ㄴ다, ., 의학, ·, 인공지능, 과, 센서, 를, 융합, 하, 면, 인간, 의, 건강, 을, 진단, 하, 고, 질병, 을, 예방, 하, 는, ', 디지털, 의사, ', 를, 만들, ㄹ, 수, 있, 다, ., 유전체, 학과, 유전자, 편집, 을, 이용, 하, 어, 가뭄, 에, 강하, 고, 인류, 전체, 를, 먹이, 어, 살리, ㄹ, 새, 식물, 을, 개발, 하, ㄹ, 수, 있, 다, ., 인공지능, 로봇, 을, 사용하, 어, 노인, 들, 을, 위하, ㄴ, ', 디지털, 친구, ', 도, 가능, 하, 다, ., 초소형, 물질, 의, 발전, 은, 모든, 사람, 이, 충분히, 이용, 하, ㄹ, 수, 있, 는, ', 태양, 열, 저장, 기술, ', 의, 새, 시대, 를, 열, ㄹ, 것, 이, 다, ., 이런, 해결책, 을, 이끌어내, 는, 데는, 생물학, ·, 교육, ·, 의료, ·, 인간, 행동, 등, 여러, 분야, 에, 대하, ㄴ, 지식, 이, 필요, 하, 다, ., 우리, 가, 처하, ㄴ, 거대, 하, ㄴ, 사회, ·, 기술적, 도전, 에, 대처, 하, 려면, 인류, 를, 둘러싸, ㄴ, 다양, 하, ㄴ, 배경, 과, 맥락, 에, 대하, 어, 비판적, 사고, 능력, 이, 필수적, 이, 다, ., 일, 는, 인문학, 전공자, 들, 이, 가장, 잘, 훈련, 받, 은, 분야, 이, 다, ., 일례, 로, 음악, ·, 예술, ·, 문, 학과, 심리학, 에서, 비롯, 하, ㄴ, 공감, (, 共感, ), 능력, 은, 디자인, 에, 크, ㄴ, 장점, 이, 되, ㄴ다, ., 로마, 제국, 의, 흥망성쇠, 와, 계몽, 주의, 를, 공부, 하, ㄴ, 역사, 학도, 는, 기술, 의, 인간적, 요소, 와, 유용성, 에, 대하, ㄴ, 통찰력, 을, 가지, ㄹ, 수, 있, 다, ., 심리학, 전공자, 는, 사람, 에게, 동기, (, 動機, ), 부여, 가, 무엇, 이, 며, ,, 사용자, 들, 이, 원하, 는, 것, 이, 무엇, 이, ㄴ지, 를, 공학, 한, 분야, 에서, 만, 일하, 어, 오, ㄴ, 엔지니어, 들, 보다, 잘, 이해, 하, ㄹ, 수, 있, 다, ., 우리, 가, 상상, 하, 는, 물건, 을, 3, D, 로, 만들, ㄹ, 수, 있, 게, 되, 면, 음악가, 나, 아, 화가, 들, 의, 세상, 이, 되, ㄹ지, 도, 모르, ㄴ다, ., \", 자녀, 가, 미래, 에, 어떤, 직업, 을, 택하, 면, 좋, 겠, 는, 가, 아, \", 이, 라는, 질문, 을, 받, 을, 때, 나, 는, \", 아이, 들, 이, 스스로, 하, 고, 싶, 은, 것, 을, 선택, 하, 도록, 내버리, 어, 두, 는, 것, 이, 최선, \", 이, 라고, 답하, ㄴ다, ., 과거, 우리, 부모, 들, 이, 우리, 에게, 공부, 를, 강요, 하, 어서, 학습, 을, ', 억지로, 하, 어야, 하, 는, 따분, 하, ㄴ, 일, ', 로, 여기, 게, 하, 었, 더, ㄴ, 방식, 을, 따르, 아, 해선, 안, 되, ㄴ다, ., 그, 대신, 자녀, 가, 자신, 의, 열정, 을, 추구, 하, 고, 배우, 는, 것, 을, 즐기, ㄹ, 수, 있, 도록, 북돋, 아야, 하, ㄴ다, ., 기술, 을, 통하, 어, 놀랍, ㄴ, 미래, 를, 창조, 하, 고, 새롭, ㄴ, 산업, 혁명, 시대, 에, 리더, 가, 되, 기, 위하, 어, 한국, 에서, 는, 공학자, 들, 과, 손잡, 고, 일하, ㄹ, 음악가, 와, 화가, 가, 더, 많이, 필요, 하, 다, ., 이제, 는, 과학, ·, 공학, ·, 의학, 뿐, 아니, 라, 창, 의, 성과, 디자인, 에, 도, 진정하, ㄴ, 관심, 을, 쏟, 아야, 하, ㄴ다, .]\n"
     ]
    }
   ],
   "source": [
    "# 코모란(Komoran) 토큰화\n",
    "from konlpy.tag import Komoran\n",
    "komoran= Komoran()\n",
    "komoran_tokens = komoran.morphs(kor_text)\n",
    "print(List(komoran_tokens))\n",
    "\n",
    "# 한나눔(Hannanum) 토큰화\n",
    "from konlpy.tag import Hannanum\n",
    "hannanum= Hannanum()\n",
    "hannanum_tokens = hannanum.morphs(kor_text)\n",
    "print(List(hannanum_tokens))\n",
    "\n",
    "# Okt 토큰화\n",
    "from konlpy.tag import Okt\n",
    "okt= Okt()\n",
    "okt_tokens = okt.morphs(kor_text)\n",
    "print(List(okt_tokens))\n",
    "\n",
    "# Kkma 토큰화\n",
    "from konlpy.tag import Kkma\n",
    "kkma= Kkma()\n",
    "kkma_tokens = kkma.morphs(kor_text)\n",
    "print(List(kkma_tokens))"
   ]
  },
  {
   "cell_type": "markdown",
   "metadata": {
    "colab_type": "text",
    "id": "2M7nyptjunTG"
   },
   "source": [
    "## 2.3 한글 품사 부착 (PoS Tagging)\n",
    "\n",
    "PoS Tag 목록\n",
    "\n",
    "https://docs.google.com/spreadsheets/u/1/d/1OGAjUvalBuX-oZvZ_-9tEfYD2gQe7hTGsgUpiiBSXI8/edit#gid=0"
   ]
  },
  {
   "cell_type": "code",
   "execution_count": 0,
   "metadata": {
    "colab": {
     "base_uri": "https://localhost:8080/",
     "height": 107
    },
    "colab_type": "code",
    "executionInfo": {
     "elapsed": 2663,
     "status": "ok",
     "timestamp": 1557724875241,
     "user": {
      "displayName": "이민호",
      "photoUrl": "https://lh5.googleusercontent.com/-DyV97Vqqbdg/AAAAAAAAAAI/AAAAAAAAADk/S243P6JSRhs/s64/photo.jpg",
      "userId": "15829449822908558555"
     },
     "user_tz": -540
    },
    "id": "2t6txrctj8nC",
    "outputId": "9ec98161-132a-4708-c96e-f28f0dc9c03e"
   },
   "outputs": [
    {
     "name": "stdout",
     "output_type": "stream",
     "text": [
      "[('교육', 'NNG'), ('을', 'NNG'), ('삶', 'NNG'), ('의', 'NNG'), ('최', 'NNP'), ('우선', 'MAG'), ('순위', 'NNP'), ('로', 'NNG'), ('두', 'MM'), ('고', 'MM')]\n",
      "[('교육', 'N'), ('을', 'N'), ('삶', 'N'), ('의', 'N'), ('최우선', 'N'), ('순위', 'N'), ('로', 'N'), ('두', 'N'), ('고', 'M'), ('있', 'N')]\n",
      "[('교육', 'Noun'), ('을', 'Josa'), ('삶', 'Noun'), ('의', 'Noun'), ('최', 'Noun'), ('우선', 'Noun'), ('순위', 'Noun'), ('로', 'Noun'), ('두고', 'Verb'), ('있는', 'Adjective')]\n",
      "[('교육', 'NNG'), ('을', 'NNG'), ('삶', 'NNG'), ('의', 'NNG'), ('최', 'XPN'), ('우선', 'MAG'), ('순위', 'NNG'), ('로', 'NNG'), ('두', 'NNG'), ('고', 'NNG')]\n"
     ]
    }
   ],
   "source": [
    "# 코모란(Komoran) 품사 태깅\n",
    "komoranTag = []\n",
    "for token in komoran_tokens:\n",
    "    komoranTag += komoran.pos(token)\n",
    "print(komoranTag[:10])\n",
    "\n",
    "# 한나눔(Hannanum) 품사 태깅\n",
    "hannanumTag = []\n",
    "for token in hannanum_tokens:\n",
    "    hannanumTag += hannanum.pos(token)\n",
    "print(hannanumTag[:10])\n",
    "\n",
    "# Okt 품사 태깅\n",
    "oktTag = []\n",
    "for token in okt_tokens:\n",
    "    oktTag += okt.pos(token)\n",
    "print(oktTag[:10])\n",
    "\n",
    "# Kkma 품사 태깅\n",
    "kkmaTag = []\n",
    "for token in kkma_tokens:\n",
    "    kkmaTag += kkma.pos(token)\n",
    "print(kkmaTag[:10])"
   ]
  },
  {
   "cell_type": "markdown",
   "metadata": {
    "colab_type": "text",
    "id": "VZY4s8tbuuXP"
   },
   "source": [
    "## 2.4 불용어(Stopword) 처리\n",
    "분석에 불필요한 품사를 제거하고, 불필요한 단어(불용어)를 제거한다"
   ]
  },
  {
   "cell_type": "code",
   "execution_count": 0,
   "metadata": {
    "colab": {},
    "colab_type": "code",
    "id": "Nvjk1yIYkCfj"
   },
   "outputs": [],
   "source": [
    "#불용어 처리\n",
    "stopPos = ['Suffix','Punctuation','Josa','Foreign','Alpha','Number']"
   ]
  },
  {
   "cell_type": "code",
   "execution_count": 0,
   "metadata": {
    "colab": {},
    "colab_type": "code",
    "id": "573iqrTFkcJ3"
   },
   "outputs": [],
   "source": [
    "# 최빈어 조회. 최빈어를 조회하여 불용어 제거 대상을 선정\n",
    "from collections import Counter\n",
    "Counter(oktTag).most_common()"
   ]
  },
  {
   "cell_type": "code",
   "execution_count": 0,
   "metadata": {
    "colab": {},
    "colab_type": "code",
    "id": "5lBkhHm1kYcz"
   },
   "outputs": [],
   "source": [
    "stopWord = ['의','이','를','은','과','수','했다','것','있는','한다','하는','그','있다','할','이런','되기','해야','있게','여기']"
   ]
  },
  {
   "cell_type": "code",
   "execution_count": 0,
   "metadata": {
    "colab": {},
    "colab_type": "code",
    "id": "BJgERpoikh9s"
   },
   "outputs": [],
   "source": [
    "word = []\n",
    "for tag in oktTag:\n",
    "    if tag[1] not in stopPos:\n",
    "        if tag[0] not in stopWord:\n",
    "            word.append(tag[0])"
   ]
  },
  {
   "cell_type": "code",
   "execution_count": 0,
   "metadata": {
    "colab": {},
    "colab_type": "code",
    "id": "iUQTDj4KkkBN"
   },
   "outputs": [],
   "source": [
    "print(word)"
   ]
  }
 ],
 "metadata": {
  "colab": {
   "collapsed_sections": [],
   "name": "0_텍스트전처리_Text Preprocessing.ipynb",
   "provenance": [],
   "version": "0.3.2"
  },
  "kernelspec": {
   "display_name": "Python 3",
   "language": "python",
   "name": "python3"
  },
  "language_info": {
   "codemirror_mode": {
    "name": "ipython",
    "version": 3
   },
   "file_extension": ".py",
   "mimetype": "text/x-python",
   "name": "python",
   "nbconvert_exporter": "python",
   "pygments_lexer": "ipython3",
   "version": "3.6.6"
  }
 },
 "nbformat": 4,
 "nbformat_minor": 1
}
