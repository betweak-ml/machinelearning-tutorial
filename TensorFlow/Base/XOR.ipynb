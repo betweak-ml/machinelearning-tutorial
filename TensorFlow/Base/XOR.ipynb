{
 "cells": [
  {
   "cell_type": "code",
   "execution_count": 10,
   "metadata": {},
   "outputs": [],
   "source": [
    "import matplotlib.pyplot as plt"
   ]
  },
  {
   "cell_type": "code",
   "execution_count": 11,
   "metadata": {},
   "outputs": [
    {
     "name": "stdout",
     "output_type": "stream",
     "text": [
      "0\n",
      "1\n",
      "1\n",
      "0\n"
     ]
    }
   ],
   "source": [
    "import numpy as np\n",
    "def AND(x1, x2):\n",
    "    w1, w2, theta = 0.5, 0.5, 0.99\n",
    "    tmp = x1*w1 + x2*w2\n",
    "    result = 0 if tmp <= theta else 1\n",
    "\n",
    "    return result\n",
    "\n",
    "def OR(x1, x2):\n",
    "    w1, w2, theta = 0.5, 0.5, 0.49\n",
    "    tmp = x1*w1 + x2*w2\n",
    "    result = 0 if tmp <= theta else 1\n",
    "\n",
    "    return result\n",
    "\n",
    "def NAND(x1, x2):\n",
    "    #x,w,b = np.array([x1, x2]), np.array([0.5, 0.5]), -0.99\n",
    "    x = np.array([x1, x2])\n",
    "    w = np.array([-0.5, -0.5])\n",
    "    b = 0.99\n",
    "    tmp = np.sum(w*x) + b\n",
    "    result = 0 if tmp <= 0 else 1\n",
    "\n",
    "    return result\n",
    "\n",
    "def XOR(x1,x2):\n",
    "    s1 = NAND(x1,x2)\n",
    "    s2 = OR(x1,x2)\n",
    "    result = AND(s1,s2)\n",
    "\n",
    "    return result\n",
    "\n",
    "print(XOR(0,0))\n",
    "print(XOR(1,0))\n",
    "print(XOR(0,1))\n",
    "print(XOR(1,1))"
   ]
  },
  {
   "cell_type": "code",
   "execution_count": 28,
   "metadata": {},
   "outputs": [],
   "source": [
    "X1 = np.linspace(-10, 10, 100)\n",
    "X2 = np.linspace(-10, 10, 100)"
   ]
  },
  {
   "cell_type": "code",
   "execution_count": 47,
   "metadata": {},
   "outputs": [
    {
     "data": {
      "text/plain": [
       "(-2, 2)"
      ]
     },
     "execution_count": 47,
     "metadata": {},
     "output_type": "execute_result"
    },
    {
     "data": {
      "image/png": "[encoded data removed]",
      "text/plain": [
       "<Figure size 432x288 with 1 Axes>"
      ]
     },
     "metadata": {
      "needs_background": "light"
     },
     "output_type": "display_data"
    }
   ],
   "source": [
    "temp = []\n",
    "plt.scatter([0,0, 1, 1], [0,1, 0, 1])\n",
    "for i in X1:\n",
    "    for j in X2:\n",
    "        a = XOR(i, j)\n",
    "        if a ==1:\n",
    "            plt.scatter(i, j, c='r')\n",
    "            \n",
    "plt.xlim(-2, 2)\n",
    "plt.ylim(-2, 2)\n"
   ]
  },
  {
   "cell_type": "code",
   "execution_count": 31,
   "metadata": {},
   "outputs": [],
   "source": [
    "y = np.array(temp)"
   ]
  },
  {
   "cell_type": "code",
   "execution_count": null,
   "metadata": {},
   "outputs": [],
   "source": []
  },
  {
   "cell_type": "code",
   "execution_count": 22,
   "metadata": {},
   "outputs": [],
   "source": [
    "x1, x2 = np.meshgrid(X1,X2)"
   ]
  },
  {
   "cell_type": "code",
   "execution_count": 25,
   "metadata": {},
   "outputs": [
    {
     "data": {
      "text/plain": [
       "array([[-10.        , -10.        , -10.        , ..., -10.        ,\n",
       "        -10.        , -10.        ],\n",
       "       [ -9.97997998,  -9.97997998,  -9.97997998, ...,  -9.97997998,\n",
       "         -9.97997998,  -9.97997998],\n",
       "       [ -9.95995996,  -9.95995996,  -9.95995996, ...,  -9.95995996,\n",
       "         -9.95995996,  -9.95995996],\n",
       "       ...,\n",
       "       [  9.95995996,   9.95995996,   9.95995996, ...,   9.95995996,\n",
       "          9.95995996,   9.95995996],\n",
       "       [  9.97997998,   9.97997998,   9.97997998, ...,   9.97997998,\n",
       "          9.97997998,   9.97997998],\n",
       "       [ 10.        ,  10.        ,  10.        , ...,  10.        ,\n",
       "         10.        ,  10.        ]])"
      ]
     },
     "execution_count": 25,
     "metadata": {},
     "output_type": "execute_result"
    }
   ],
   "source": []
  },
  {
   "cell_type": "code",
   "execution_count": null,
   "metadata": {},
   "outputs": [],
   "source": []
  }
 ],
 "metadata": {
  "kernelspec": {
   "display_name": "Python 3",
   "language": "python",
   "name": "python3"
  },
  "language_info": {
   "codemirror_mode": {
    "name": "ipython",
    "version": 3
   },
   "file_extension": ".py",
   "mimetype": "text/x-python",
   "name": "python",
   "nbconvert_exporter": "python",
   "pygments_lexer": "ipython3",
   "version": "3.6.6"
  }
 },
 "nbformat": 4,
 "nbformat_minor": 2
}
